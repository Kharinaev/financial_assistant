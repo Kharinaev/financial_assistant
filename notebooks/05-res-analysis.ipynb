{
 "cells": [
  {
   "cell_type": "code",
   "execution_count": 15,
   "metadata": {},
   "outputs": [],
   "source": [
    "import pandas as pd\n",
    "import json\n",
    "import os\n",
    "from tqdm.auto import tqdm\n",
    "\n",
    "from langchain.vectorstores import FAISS\n",
    "from langchain.embeddings.openai import OpenAIEmbeddings"
   ]
  },
  {
   "cell_type": "code",
   "execution_count": null,
   "metadata": {},
   "outputs": [],
   "source": [
    "VSE_GPT_API_KEY = \"\"\n",
    "os.environ[\"OPENAI_API_KEY\"] = VSE_GPT_API_KEY"
   ]
  },
  {
   "cell_type": "code",
   "execution_count": 3,
   "metadata": {},
   "outputs": [],
   "source": [
    "with open('/Users/alfa/Code/financial_assistant/data/interim/test_qual_investor/questions.json', 'r') as f:\n",
    "    questions = json.load(f)"
   ]
  },
  {
   "cell_type": "code",
   "execution_count": 4,
   "metadata": {},
   "outputs": [],
   "source": [
    "with open('/Users/alfa/Code/financial_assistant/data/interim/test_qual_investor/chapters.json', 'r') as f:\n",
    "    chapters = json.load(f)"
   ]
  },
  {
   "cell_type": "code",
   "execution_count": 21,
   "metadata": {},
   "outputs": [],
   "source": [
    "norm_zs = pd.read_csv('/Users/alfa/Code/financial_assistant/data/results/gpt4o_zeroshot.csv', index_col=0)\n",
    "mini_zs = pd.read_csv('/Users/alfa/Code/financial_assistant/data/results/gpt4o-mini_zeroshot.csv', index_col=0)\n",
    "\n",
    "norm_rag = pd.read_csv('/Users/alfa/Code/financial_assistant/data/results/gpt4o_rag.csv', index_col=0)\n",
    "mini_rag = pd.read_csv('/Users/alfa/Code/financial_assistant/data/results/gpt4o-mini_rag.csv', index_col=0)"
   ]
  },
  {
   "cell_type": "code",
   "execution_count": 37,
   "metadata": {},
   "outputs": [],
   "source": [
    "norm_zs.options = norm_zs.options.apply(eval)\n",
    "mini_zs.options = mini_zs.options.apply(eval)\n",
    "norm_rag.options = norm_rag.options.apply(eval)\n",
    "mini_rag.options = mini_rag.options.apply(eval)"
   ]
  },
  {
   "cell_type": "code",
   "execution_count": 38,
   "metadata": {},
   "outputs": [
    {
     "name": "stdout",
     "output_type": "stream",
     "text": [
      "<class 'pandas.core.frame.DataFrame'>\n",
      "Index: 44 entries, 1.4 to 11.7\n",
      "Data columns (total 7 columns):\n",
      " #   Column         Non-Null Count  Dtype \n",
      "---  ------         --------------  ----- \n",
      " 0   question       44 non-null     object\n",
      " 1   options        44 non-null     object\n",
      " 2   answer         44 non-null     object\n",
      " 3   chapter        44 non-null     int64 \n",
      " 4   llm_answer     44 non-null     object\n",
      " 5   llm_reasoning  44 non-null     object\n",
      " 6   correct        44 non-null     int64 \n",
      "dtypes: int64(2), object(5)\n",
      "memory usage: 3.8+ KB\n"
     ]
    }
   ],
   "source": [
    "norm_zs.info()"
   ]
  },
  {
   "cell_type": "markdown",
   "metadata": {},
   "source": [
    "# Metrics"
   ]
  },
  {
   "cell_type": "code",
   "execution_count": 72,
   "metadata": {},
   "outputs": [
    {
     "data": {
      "text/plain": [
       "0.9318181818181818"
      ]
     },
     "execution_count": 72,
     "metadata": {},
     "output_type": "execute_result"
    }
   ],
   "source": [
    "norm_zs.correct.mean()"
   ]
  },
  {
   "cell_type": "code",
   "execution_count": 73,
   "metadata": {},
   "outputs": [
    {
     "data": {
      "text/plain": [
       "0.9545454545454546"
      ]
     },
     "execution_count": 73,
     "metadata": {},
     "output_type": "execute_result"
    }
   ],
   "source": [
    "norm_rag.correct.mean()"
   ]
  },
  {
   "cell_type": "code",
   "execution_count": 74,
   "metadata": {},
   "outputs": [
    {
     "data": {
      "text/plain": [
       "0.7727272727272727"
      ]
     },
     "execution_count": 74,
     "metadata": {},
     "output_type": "execute_result"
    }
   ],
   "source": [
    "mini_zs.correct.mean()"
   ]
  },
  {
   "cell_type": "code",
   "execution_count": 76,
   "metadata": {},
   "outputs": [
    {
     "data": {
      "text/plain": [
       "0.9545454545454546"
      ]
     },
     "execution_count": 76,
     "metadata": {},
     "output_type": "execute_result"
    }
   ],
   "source": [
    "mini_rag.correct.mean()"
   ]
  },
  {
   "cell_type": "markdown",
   "metadata": {},
   "source": [
    "# Check different"
   ]
  },
  {
   "cell_type": "code",
   "execution_count": 23,
   "metadata": {},
   "outputs": [
    {
     "data": {
      "text/html": [
       "<div>\n",
       "<style scoped>\n",
       "    .dataframe tbody tr th:only-of-type {\n",
       "        vertical-align: middle;\n",
       "    }\n",
       "\n",
       "    .dataframe tbody tr th {\n",
       "        vertical-align: top;\n",
       "    }\n",
       "\n",
       "    .dataframe thead th {\n",
       "        text-align: right;\n",
       "    }\n",
       "</style>\n",
       "<table border=\"1\" class=\"dataframe\">\n",
       "  <thead>\n",
       "    <tr style=\"text-align: right;\">\n",
       "      <th></th>\n",
       "      <th>question</th>\n",
       "      <th>options</th>\n",
       "      <th>answer</th>\n",
       "      <th>chapter</th>\n",
       "      <th>llm_answer</th>\n",
       "      <th>llm_reasoning</th>\n",
       "      <th>correct</th>\n",
       "    </tr>\n",
       "    <tr>\n",
       "      <th>id</th>\n",
       "      <th></th>\n",
       "      <th></th>\n",
       "      <th></th>\n",
       "      <th></th>\n",
       "      <th></th>\n",
       "      <th></th>\n",
       "      <th></th>\n",
       "    </tr>\n",
       "  </thead>\n",
       "  <tbody>\n",
       "    <tr>\n",
       "      <th>2.5</th>\n",
       "      <td>Если инвестор принимает решение продать принад...</td>\n",
       "      <td>[{'letter': 'А', 'option_text': 'В любой рабоч...</td>\n",
       "      <td>Б</td>\n",
       "      <td>2</td>\n",
       "      <td>Б</td>\n",
       "      <td>Согласно контексту, сделка с акциями может быт...</td>\n",
       "      <td>1</td>\n",
       "    </tr>\n",
       "    <tr>\n",
       "      <th>4.6</th>\n",
       "      <td>Вы являетесь покупателем по первой части догов...</td>\n",
       "      <td>[{'letter': 'А', 'option_text': 'В любом случа...</td>\n",
       "      <td>А</td>\n",
       "      <td>4</td>\n",
       "      <td>А</td>\n",
       "      <td>Согласно контексту, дивиденды, купоны и другие...</td>\n",
       "      <td>1</td>\n",
       "    </tr>\n",
       "  </tbody>\n",
       "</table>\n",
       "</div>"
      ],
      "text/plain": [
       "                                              question  \\\n",
       "id                                                       \n",
       "2.5  Если инвестор принимает решение продать принад...   \n",
       "4.6  Вы являетесь покупателем по первой части догов...   \n",
       "\n",
       "                                               options answer  chapter  \\\n",
       "id                                                                       \n",
       "2.5  [{'letter': 'А', 'option_text': 'В любой рабоч...      Б        2   \n",
       "4.6  [{'letter': 'А', 'option_text': 'В любом случа...      А        4   \n",
       "\n",
       "    llm_answer                                      llm_reasoning  correct  \n",
       "id                                                                          \n",
       "2.5          Б  Согласно контексту, сделка с акциями может быт...        1  \n",
       "4.6          А  Согласно контексту, дивиденды, купоны и другие...        1  "
      ]
     },
     "execution_count": 23,
     "metadata": {},
     "output_type": "execute_result"
    }
   ],
   "source": [
    "norm_rag[(norm_zs.correct==0) & (norm_rag.correct==1)]"
   ]
  },
  {
   "cell_type": "code",
   "execution_count": 24,
   "metadata": {},
   "outputs": [
    {
     "data": {
      "text/html": [
       "<div>\n",
       "<style scoped>\n",
       "    .dataframe tbody tr th:only-of-type {\n",
       "        vertical-align: middle;\n",
       "    }\n",
       "\n",
       "    .dataframe tbody tr th {\n",
       "        vertical-align: top;\n",
       "    }\n",
       "\n",
       "    .dataframe thead th {\n",
       "        text-align: right;\n",
       "    }\n",
       "</style>\n",
       "<table border=\"1\" class=\"dataframe\">\n",
       "  <thead>\n",
       "    <tr style=\"text-align: right;\">\n",
       "      <th></th>\n",
       "      <th>question</th>\n",
       "      <th>options</th>\n",
       "      <th>answer</th>\n",
       "      <th>chapter</th>\n",
       "      <th>llm_answer</th>\n",
       "      <th>llm_reasoning</th>\n",
       "      <th>correct</th>\n",
       "    </tr>\n",
       "    <tr>\n",
       "      <th>id</th>\n",
       "      <th></th>\n",
       "      <th></th>\n",
       "      <th></th>\n",
       "      <th></th>\n",
       "      <th></th>\n",
       "      <th></th>\n",
       "      <th></th>\n",
       "    </tr>\n",
       "  </thead>\n",
       "  <tbody>\n",
       "    <tr>\n",
       "      <th>2.5</th>\n",
       "      <td>Если инвестор принимает решение продать принад...</td>\n",
       "      <td>[{'letter': 'А', 'option_text': 'В любой рабоч...</td>\n",
       "      <td>Б</td>\n",
       "      <td>2</td>\n",
       "      <td>А</td>\n",
       "      <td>На российском фондовом рынке акции можно прода...</td>\n",
       "      <td>0</td>\n",
       "    </tr>\n",
       "    <tr>\n",
       "      <th>4.6</th>\n",
       "      <td>Вы являетесь покупателем по первой части догов...</td>\n",
       "      <td>[{'letter': 'А', 'option_text': 'В любом случа...</td>\n",
       "      <td>А</td>\n",
       "      <td>4</td>\n",
       "      <td>Б</td>\n",
       "      <td>Согласно российскому законодательству и практи...</td>\n",
       "      <td>0</td>\n",
       "    </tr>\n",
       "  </tbody>\n",
       "</table>\n",
       "</div>"
      ],
      "text/plain": [
       "                                              question  \\\n",
       "id                                                       \n",
       "2.5  Если инвестор принимает решение продать принад...   \n",
       "4.6  Вы являетесь покупателем по первой части догов...   \n",
       "\n",
       "                                               options answer  chapter  \\\n",
       "id                                                                       \n",
       "2.5  [{'letter': 'А', 'option_text': 'В любой рабоч...      Б        2   \n",
       "4.6  [{'letter': 'А', 'option_text': 'В любом случа...      А        4   \n",
       "\n",
       "    llm_answer                                      llm_reasoning  correct  \n",
       "id                                                                          \n",
       "2.5          А  На российском фондовом рынке акции можно прода...        0  \n",
       "4.6          Б  Согласно российскому законодательству и практи...        0  "
      ]
     },
     "execution_count": 24,
     "metadata": {},
     "output_type": "execute_result"
    }
   ],
   "source": [
    "norm_zs[(norm_zs.correct==0) & (norm_rag.correct==1)]"
   ]
  },
  {
   "cell_type": "code",
   "execution_count": 25,
   "metadata": {},
   "outputs": [
    {
     "data": {
      "text/html": [
       "<div>\n",
       "<style scoped>\n",
       "    .dataframe tbody tr th:only-of-type {\n",
       "        vertical-align: middle;\n",
       "    }\n",
       "\n",
       "    .dataframe tbody tr th {\n",
       "        vertical-align: top;\n",
       "    }\n",
       "\n",
       "    .dataframe thead th {\n",
       "        text-align: right;\n",
       "    }\n",
       "</style>\n",
       "<table border=\"1\" class=\"dataframe\">\n",
       "  <thead>\n",
       "    <tr style=\"text-align: right;\">\n",
       "      <th></th>\n",
       "      <th>question</th>\n",
       "      <th>options</th>\n",
       "      <th>answer</th>\n",
       "      <th>chapter</th>\n",
       "      <th>llm_answer</th>\n",
       "      <th>llm_reasoning</th>\n",
       "      <th>correct</th>\n",
       "    </tr>\n",
       "    <tr>\n",
       "      <th>id</th>\n",
       "      <th></th>\n",
       "      <th></th>\n",
       "      <th></th>\n",
       "      <th></th>\n",
       "      <th></th>\n",
       "      <th></th>\n",
       "      <th></th>\n",
       "    </tr>\n",
       "  </thead>\n",
       "  <tbody>\n",
       "    <tr>\n",
       "      <th>1.5</th>\n",
       "      <td>Что из перечисленного не является риском по пр...</td>\n",
       "      <td>[{'letter': 'А', 'option_text': 'Риск изменени...</td>\n",
       "      <td>А</td>\n",
       "      <td>1</td>\n",
       "      <td>А</td>\n",
       "      <td>Изменение суверенного рейтинга России не влияе...</td>\n",
       "      <td>1</td>\n",
       "    </tr>\n",
       "    <tr>\n",
       "      <th>2.5</th>\n",
       "      <td>Если инвестор принимает решение продать принад...</td>\n",
       "      <td>[{'letter': 'А', 'option_text': 'В любой рабоч...</td>\n",
       "      <td>Б</td>\n",
       "      <td>2</td>\n",
       "      <td>Б</td>\n",
       "      <td>Инвестор может продать акцию, но точная дата с...</td>\n",
       "      <td>1</td>\n",
       "    </tr>\n",
       "    <tr>\n",
       "      <th>2.7</th>\n",
       "      <td>Выберите верное утверждение</td>\n",
       "      <td>[{'letter': 'А', 'option_text': 'Акция, не вкл...</td>\n",
       "      <td>А</td>\n",
       "      <td>2</td>\n",
       "      <td>А</td>\n",
       "      <td>Согласно контексту, акция, не включённая в кот...</td>\n",
       "      <td>1</td>\n",
       "    </tr>\n",
       "    <tr>\n",
       "      <th>4.6</th>\n",
       "      <td>Вы являетесь покупателем по первой части догов...</td>\n",
       "      <td>[{'letter': 'А', 'option_text': 'В любом случа...</td>\n",
       "      <td>А</td>\n",
       "      <td>4</td>\n",
       "      <td>А</td>\n",
       "      <td>Согласно контексту, дивиденды и другие доходы ...</td>\n",
       "      <td>1</td>\n",
       "    </tr>\n",
       "    <tr>\n",
       "      <th>6.5</th>\n",
       "      <td>Может ли инвестор по структурной облигации при...</td>\n",
       "      <td>[{'letter': 'А', 'option_text': 'Да, может.'},...</td>\n",
       "      <td>А</td>\n",
       "      <td>6</td>\n",
       "      <td>А</td>\n",
       "      <td>Инвестор по структурной облигации может получи...</td>\n",
       "      <td>1</td>\n",
       "    </tr>\n",
       "    <tr>\n",
       "      <th>7.7</th>\n",
       "      <td>Допускается ли вторичное обращение паев закрыт...</td>\n",
       "      <td>[{'letter': 'А', 'option_text': 'Да, если это ...</td>\n",
       "      <td>А</td>\n",
       "      <td>7</td>\n",
       "      <td>А</td>\n",
       "      <td>Вторичное обращение паев закрытого паевого инв...</td>\n",
       "      <td>1</td>\n",
       "    </tr>\n",
       "    <tr>\n",
       "      <th>9.7</th>\n",
       "      <td>В случае, если Вы купили иностранную облигацию...</td>\n",
       "      <td>[{'letter': 'А', 'option_text': '10 долларов С...</td>\n",
       "      <td>В</td>\n",
       "      <td>9</td>\n",
       "      <td>В</td>\n",
       "      <td>Ваш налогооблагаемый доход в России будет расс...</td>\n",
       "      <td>1</td>\n",
       "    </tr>\n",
       "    <tr>\n",
       "      <th>11.4</th>\n",
       "      <td>Выберите правильное утверждение в отношении па...</td>\n",
       "      <td>[{'letter': 'А', 'option_text': 'Инвестиции в ...</td>\n",
       "      <td>В</td>\n",
       "      <td>11</td>\n",
       "      <td>В</td>\n",
       "      <td>Инвестиции в ETF на индекс акций обеспечивают ...</td>\n",
       "      <td>1</td>\n",
       "    </tr>\n",
       "  </tbody>\n",
       "</table>\n",
       "</div>"
      ],
      "text/plain": [
       "                                               question  \\\n",
       "id                                                        \n",
       "1.5   Что из перечисленного не является риском по пр...   \n",
       "2.5   Если инвестор принимает решение продать принад...   \n",
       "2.7                         Выберите верное утверждение   \n",
       "4.6   Вы являетесь покупателем по первой части догов...   \n",
       "6.5   Может ли инвестор по структурной облигации при...   \n",
       "7.7   Допускается ли вторичное обращение паев закрыт...   \n",
       "9.7   В случае, если Вы купили иностранную облигацию...   \n",
       "11.4  Выберите правильное утверждение в отношении па...   \n",
       "\n",
       "                                                options answer  chapter  \\\n",
       "id                                                                        \n",
       "1.5   [{'letter': 'А', 'option_text': 'Риск изменени...      А        1   \n",
       "2.5   [{'letter': 'А', 'option_text': 'В любой рабоч...      Б        2   \n",
       "2.7   [{'letter': 'А', 'option_text': 'Акция, не вкл...      А        2   \n",
       "4.6   [{'letter': 'А', 'option_text': 'В любом случа...      А        4   \n",
       "6.5   [{'letter': 'А', 'option_text': 'Да, может.'},...      А        6   \n",
       "7.7   [{'letter': 'А', 'option_text': 'Да, если это ...      А        7   \n",
       "9.7   [{'letter': 'А', 'option_text': '10 долларов С...      В        9   \n",
       "11.4  [{'letter': 'А', 'option_text': 'Инвестиции в ...      В       11   \n",
       "\n",
       "     llm_answer                                      llm_reasoning  correct  \n",
       "id                                                                           \n",
       "1.5           А  Изменение суверенного рейтинга России не влияе...        1  \n",
       "2.5           Б  Инвестор может продать акцию, но точная дата с...        1  \n",
       "2.7           А  Согласно контексту, акция, не включённая в кот...        1  \n",
       "4.6           А  Согласно контексту, дивиденды и другие доходы ...        1  \n",
       "6.5           А  Инвестор по структурной облигации может получи...        1  \n",
       "7.7           А  Вторичное обращение паев закрытого паевого инв...        1  \n",
       "9.7           В  Ваш налогооблагаемый доход в России будет расс...        1  \n",
       "11.4          В  Инвестиции в ETF на индекс акций обеспечивают ...        1  "
      ]
     },
     "execution_count": 25,
     "metadata": {},
     "output_type": "execute_result"
    }
   ],
   "source": [
    "mini_rag[(mini_zs.correct==0) & (mini_rag.correct==1)]"
   ]
  },
  {
   "cell_type": "code",
   "execution_count": 18,
   "metadata": {},
   "outputs": [],
   "source": [
    "embedding_model = OpenAIEmbeddings(\n",
    "    model=\"text-embedding-3-small\", \n",
    "    openai_api_base = \"https://api.vsegpt.ru/v1/\"\n",
    ")"
   ]
  },
  {
   "cell_type": "code",
   "execution_count": 19,
   "metadata": {},
   "outputs": [],
   "source": [
    "db = FAISS.load_local(\"/Users/alfa/Code/financial_assistant/data/processed/docs_db_index\", embedding_model)"
   ]
  },
  {
   "cell_type": "code",
   "execution_count": 56,
   "metadata": {},
   "outputs": [],
   "source": [
    "def get_context(\n",
    "    question_dict\n",
    "):\n",
    "    \n",
    "    options = [\n",
    "        opt[\"letter\"] + '. ' + opt[\"option_text\"]\n",
    "        for opt in question_dict[\"options\"]\n",
    "    ]\n",
    "\n",
    "    question_with_options_text = '\\n'.join([question_dict['question']] + options)\n",
    "\n",
    "    top_docs = db.similarity_search(question_with_options_text, 3)\n",
    "    top_docs_texts = [f\"{i}. {doc.page_content}\" for i, doc in enumerate(top_docs)]\n",
    "    context = '\\n'.join(top_docs_texts)\n",
    "    return question_with_options_text, context"
   ]
  },
  {
   "cell_type": "code",
   "execution_count": 40,
   "metadata": {},
   "outputs": [
    {
     "data": {
      "text/plain": [
       "{'question': 'Если инвестор принимает решение продать принадлежащую ему акцию, как быстро он может это сделать?',\n",
       " 'options': [{'letter': 'А',\n",
       "   'option_text': 'В любой рабочий день, определенный самим инвестором.'},\n",
       "  {'letter': 'Б', 'option_text': 'Точная дата не может быть определена.'},\n",
       "  {'letter': 'В', 'option_text': 'В течение недели.'},\n",
       "  {'letter': 'Г', 'option_text': 'В течение 7 дней.'}],\n",
       " 'answer': 'Б',\n",
       " 'chapter': 2,\n",
       " 'llm_answer': 'А',\n",
       " 'llm_reasoning': 'На российском фондовом рынке акции можно продать в любой рабочий день, когда биржа открыта, что определяется графиком работы биржи, а не самим инвестором.',\n",
       " 'correct': 0}"
      ]
     },
     "execution_count": 40,
     "metadata": {},
     "output_type": "execute_result"
    }
   ],
   "source": [
    "norm_zs.loc[2.5].to_dict()"
   ]
  },
  {
   "cell_type": "code",
   "execution_count": 57,
   "metadata": {},
   "outputs": [],
   "source": [
    "options, context = get_context(norm_zs.loc[2.5].to_dict())"
   ]
  },
  {
   "cell_type": "code",
   "execution_count": 63,
   "metadata": {},
   "outputs": [
    {
     "name": "stdout",
     "output_type": "stream",
     "text": [
      "Вопрос:\n",
      "Если инвестор принимает решение продать принадлежащую ему акцию, как быстро он может это сделать?\n",
      "А. В любой рабочий день, определенный самим инвестором.\n",
      "Б. Точная дата не может быть определена.\n",
      "В. В течение недели.\n",
      "Г. В течение 7 дней.\n",
      "\n",
      "Контекст:\n",
      "0. Инвестор может совершить сделку с акциями, только когда на бирже найдётся подходящий контрагент. Поэтому точную дату и время совершения сделки предсказать невозможно. При этом если инвестор захочет продать иностранные акции, он может столкнуться с техническими проблемами из-за риска введения иностранным регулятором ограничений на совершение сделок. Многие инвесторы предпочитают делать вложения в акции различных компаний, так как они в перспективе могут принести неограниченный доход. Но акции также могут падать в цене и приводить к финансовым потерям.\n",
      "1. В дату оферты инвестор может предъявить свои облигации к погашению до даты погашения всего выпуска, но это его право, а не обязанность.\n",
      "2. ☝️ Чтобы попасть в реестр и получить дивиденды, акцию нужно купить минимум за два рабочих дня до объявленной даты закрытия реестра. Это связано с режимом торгов биржи: когда вы покупаете акцию, то вы становитесь её владельцем не сразу, а только через два рабочих дня.\n",
      "\n",
      "\n",
      "Верный ответ: Б\n",
      "Ответ без контекста: А\n",
      "Ответ c контекстом: Б\n",
      "\n",
      "Обоснование без контекста: На российском фондовом рынке акции можно продать в любой рабочий день, когда биржа открыта, что определяется графиком работы биржи, а не самим инвестором.\n",
      "Обоснование c контекстом: Согласно контексту, сделка с акциями может быть совершена только при наличии подходящего контрагента, и точную дату предсказать невозможно.\n"
     ]
    }
   ],
   "source": [
    "print(f'Вопрос:\\n{options}')\n",
    "print(f'\\nКонтекст:\\n{context}\\n')\n",
    "print('\\nВерный ответ:', norm_zs.loc[2.5].to_dict()['answer'])\n",
    "print('Ответ без контекста:', norm_zs.loc[2.5].to_dict()['llm_answer'])\n",
    "print('Ответ c контекстом:', norm_rag.loc[2.5].to_dict()['llm_answer'])\n",
    "print('\\nОбоснование без контекста:', norm_zs.loc[2.5].to_dict()['llm_reasoning'])\n",
    "print('Обоснование c контекстом:', norm_rag.loc[2.5].to_dict()['llm_reasoning'])"
   ]
  },
  {
   "cell_type": "code",
   "execution_count": 64,
   "metadata": {},
   "outputs": [],
   "source": [
    "options, context = get_context(norm_zs.loc[4.6].to_dict())"
   ]
  },
  {
   "cell_type": "code",
   "execution_count": 65,
   "metadata": {},
   "outputs": [
    {
     "name": "stdout",
     "output_type": "stream",
     "text": [
      "Вопрос:\n",
      "Вы являетесь покупателем по первой части договора репо. По ценным бумагам, которые Вы получили по договору репо, осуществлена выплата денежных средств или передано иное имущество, в том числе в виде дивидендов или процентов (доход). В каком случае Вы обязаны передать сумму такого дохода продавцу по договору репо?\n",
      "А. В любом случае, даже если Вы этот доход фактически не получили.\n",
      "Б. Вы не обязаны передавать продавцу по договору репо такой доход, если это предусмотрено условиями договора репо.\n",
      "В. Только если Вы являетесь эмитентом ценных бумаг, приобретенных по договору репо.\n",
      "Г. Ни один из ответов не является правильным.\n",
      "\n",
      "Контекст:\n",
      "0. Если за время между первой и второй частями сделки на ценные бумаги будут начислены дивиденды, купонные выплаты или процентный доход — они по закону попадут к текущему владельцу бумаг. При этом он обязан передать все полученные доходы продавцу по первой части сделки, даже если этот доход ещё фактически не получен. Как и когда — определяется в их договоре.\n",
      "Дивиденды, купоны и другие премии по ценным бумагам, участвующим в сделках РЕПО, принадлежат первоначальному продавцу. И должны быть переданы ему в любом случае.\n",
      "1. Вы также заметили, что стоимость обратной сделки чуть выше, чем стоимость первой продажи. В неё обычно включается процент за пользование денежными средствами, о нём договариваются сразу при заключении сделки.\n",
      "В итоге продавец быстро получает нужные ему деньги на приемлемых условиях и уверенность, что ценные бумаги к нему вернутся.\n",
      "Отличие РЕПО от встречной купли-продажи в том, что эта сделка учитывает особенности рынка ценных бумаг. Продавец, расставшись на время со своими бумагами, не потеряет доходы по ним.\n",
      "2. Есть риск и у продавца по «прямому РЕПО»: он может не получить свои ценные бумаги обратно, если их покупатель по каким-либо причинам не выполнит обязательства. Например, тот успел продать ценные бумаги, а купить такие же для возврата не сумел. Или если ценные бумаги (например, облигации) за это время будут погашены и выйдут из обращения.\n",
      "Второй риск — если стоимость ценных бумаг, с которыми заключена сделка, за это время очень сильно изменится. Тогда вторая часть сделки станет очень невыгодной для одной из сторон, и появится риск невыполнения обязательств, что приведёт к невозврату средств.\n",
      "\n",
      "\n",
      "Верный ответ: А\n",
      "Ответ без контекста: Б\n",
      "Ответ c контекстом: А\n",
      "\n",
      "Обоснование без контекста: Согласно российскому законодательству и практике, обязательство передать доход продавцу по договору репо зависит от условий, прописанных в самом договоре. Если договором предусмотрено, что доход остается у покупателя, то передавать его продавцу не требуется.\n",
      "Обоснование c контекстом: Согласно контексту, дивиденды, купоны и другие премии по ценным бумагам, участвующим в сделках РЕПО, принадлежат первоначальному продавцу и должны быть переданы ему в любом случае, даже если фактически доход еще не получен.\n"
     ]
    }
   ],
   "source": [
    "print(f'Вопрос:\\n{options}')\n",
    "print(f'\\nКонтекст:\\n{context}\\n')\n",
    "print('\\nВерный ответ:', norm_zs.loc[4.6].to_dict()['answer'])\n",
    "print('Ответ без контекста:', norm_zs.loc[4.6].to_dict()['llm_answer'])\n",
    "print('Ответ c контекстом:', norm_rag.loc[4.6].to_dict()['llm_answer'])\n",
    "print('\\nОбоснование без контекста:', norm_zs.loc[4.6].to_dict()['llm_reasoning'])\n",
    "print('Обоснование c контекстом:', norm_rag.loc[4.6].to_dict()['llm_reasoning'])"
   ]
  },
  {
   "cell_type": "code",
   "execution_count": null,
   "metadata": {},
   "outputs": [],
   "source": []
  },
  {
   "cell_type": "code",
   "execution_count": null,
   "metadata": {},
   "outputs": [],
   "source": []
  },
  {
   "cell_type": "code",
   "execution_count": null,
   "metadata": {},
   "outputs": [],
   "source": []
  },
  {
   "cell_type": "code",
   "execution_count": null,
   "metadata": {},
   "outputs": [],
   "source": []
  },
  {
   "cell_type": "code",
   "execution_count": null,
   "metadata": {},
   "outputs": [],
   "source": []
  }
 ],
 "metadata": {
  "kernelspec": {
   "display_name": "finbot",
   "language": "python",
   "name": "python3"
  },
  "language_info": {
   "codemirror_mode": {
    "name": "ipython",
    "version": 3
   },
   "file_extension": ".py",
   "mimetype": "text/x-python",
   "name": "python",
   "nbconvert_exporter": "python",
   "pygments_lexer": "ipython3",
   "version": "3.11.0"
  }
 },
 "nbformat": 4,
 "nbformat_minor": 2
}
