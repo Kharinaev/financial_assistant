{
 "cells": [
  {
   "cell_type": "code",
   "execution_count": 27,
   "metadata": {},
   "outputs": [],
   "source": [
    "import json\n",
    "import json_repair\n",
    "import os\n",
    "import pandas as pd\n",
    "from typing import Dict, List, Optional\n",
    "from tqdm.auto import tqdm"
   ]
  },
  {
   "cell_type": "code",
   "execution_count": null,
   "metadata": {},
   "outputs": [],
   "source": [
    "from openai import OpenAI\n",
    "VSE_GPT_API_KEY = \"\"\n",
    "\n",
    "client = OpenAI(\n",
    "    api_key=VSE_GPT_API_KEY,\n",
    "    base_url=\"https://api.vsegpt.ru/v1\",\n",
    ")"
   ]
  },
  {
   "cell_type": "markdown",
   "metadata": {},
   "source": [
    "# Data"
   ]
  },
  {
   "cell_type": "code",
   "execution_count": 3,
   "metadata": {},
   "outputs": [],
   "source": [
    "with open('/Users/alfa/Code/financial_assistant/data/interim/test_qual_investor/questions.json', 'r') as f:\n",
    "    questions = json.load(f)"
   ]
  },
  {
   "cell_type": "code",
   "execution_count": 4,
   "metadata": {},
   "outputs": [
    {
     "data": {
      "text/plain": [
       "{'id': '1.4',\n",
       " 'question': 'Ликвидность акции характеризует',\n",
       " 'options': [{'letter': 'А',\n",
       "   'option_text': 'Способность инвестора продать акцию с минимальными для него потерями в минимальный срок.'},\n",
       "  {'letter': 'Б',\n",
       "   'option_text': 'Разницу цены такой акции на разных торговых площадках.'},\n",
       "  {'letter': 'В',\n",
       "   'option_text': 'Вероятность погашения акции компанией – эмитентом.'},\n",
       "  {'letter': 'Г',\n",
       "   'option_text': 'Ни один из ответов не является правильным.'}],\n",
       " 'answer': 'А',\n",
       " 'chapter': 1}"
      ]
     },
     "execution_count": 4,
     "metadata": {},
     "output_type": "execute_result"
    }
   ],
   "source": [
    "questions[0]"
   ]
  },
  {
   "cell_type": "code",
   "execution_count": 5,
   "metadata": {},
   "outputs": [],
   "source": [
    "with open('/Users/alfa/Code/financial_assistant/data/interim/test_qual_investor/chapters.json', 'r') as f:\n",
    "    chapters = json.load(f)"
   ]
  },
  {
   "cell_type": "code",
   "execution_count": 6,
   "metadata": {},
   "outputs": [
    {
     "data": {
      "text/plain": [
       "{'1': 'Покупка иностранных акций',\n",
       " '2': 'Акции, не включенные в котировальные списки',\n",
       " '3': 'Допуск к необеспеченным сделкам (маржинальная торговля)',\n",
       " '4': 'Заключение договоров РЕПО',\n",
       " '5': 'Опционы, фьючерсы, производные финансовые инструменты',\n",
       " '6': 'Структурные облигации',\n",
       " '7': 'Паи закрытых паевых инвестиционных фондов (ЗПИФ)',\n",
       " '8': 'Облигации российских эмитентов, которым не присвоен рейтинг или он ниже уровня',\n",
       " '9': 'Облигации иностранных эмитентов в валюте (еврооблигации) которым не присвоен рейтинг или он ниже нужного уровня',\n",
       " '10': 'Облигации со структурным доходом',\n",
       " '11': 'Вопросы для допуска к иностранным ETF'}"
      ]
     },
     "execution_count": 6,
     "metadata": {},
     "output_type": "execute_result"
    }
   ],
   "source": [
    "chapters"
   ]
  },
  {
   "cell_type": "markdown",
   "metadata": {},
   "source": [
    "# Zero-shot"
   ]
  },
  {
   "cell_type": "markdown",
   "metadata": {},
   "source": [
    "## Prompt"
   ]
  },
  {
   "cell_type": "code",
   "execution_count": 7,
   "metadata": {},
   "outputs": [
    {
     "name": "stdout",
     "output_type": "stream",
     "text": [
      "You are qualified financial and investment assistant. \n",
      "Provide helpful answers to any question.  \n",
      "Stricly follow user instructions.  \n"
     ]
    }
   ],
   "source": [
    "with open(\"/Users/alfa/Code/financial_assistant/artifacts/prompts/system_v1.md\", \"r\") as f:\n",
    "    system_prompt = f.read()\n",
    "\n",
    "print(system_prompt)"
   ]
  },
  {
   "cell_type": "code",
   "execution_count": 8,
   "metadata": {},
   "outputs": [],
   "source": [
    "with open(\"/Users/alfa/Code/financial_assistant/artifacts/prompts/v1.md\", \"r\") as f:\n",
    "    prompt_template = f.read()"
   ]
  },
  {
   "cell_type": "code",
   "execution_count": 9,
   "metadata": {},
   "outputs": [
    {
     "name": "stdout",
     "output_type": "stream",
     "text": [
      "### Instructions ###\n",
      "\n",
      "Answer the multiple-choice ###Question### about Russian invest market.\n",
      "Follow ###Asnwer Format###.\n",
      "\n",
      "\n",
      "### Answer Format ###\n",
      "{{\n",
      "    \"reasoning\" : \"provide your brief (1-2 sentences) reasoning here\",\n",
      "    \"answer\": \"Б\" # one of the first 4 cyrillyc letters: \"А\", \"Б\", \"В\" or \"Г\"\n",
      "}}\n",
      "\n",
      "\n",
      "### Question ###\n",
      "{question}\n",
      "\n",
      "{option_1}\n",
      "{option_2}\n",
      "{option_3}\n",
      "{option_4}\n",
      "\n",
      "\n"
     ]
    }
   ],
   "source": [
    "print(prompt_template)"
   ]
  },
  {
   "cell_type": "markdown",
   "metadata": {},
   "source": [
    "## Evaluation"
   ]
  },
  {
   "cell_type": "code",
   "execution_count": 26,
   "metadata": {},
   "outputs": [],
   "source": [
    "def get_response(\n",
    "    question_dict : Dict, \n",
    "    prompt_template: str, \n",
    "    system_prompt: str, \n",
    "    model=\"openai/gpt-4o-2024-11-20\",\n",
    "    sampling_params: Dict = {\n",
    "        \"max_tokens\": 512,\n",
    "        \"temperature\": 0.5,\n",
    "        \"top_p\": 0.9\n",
    "    }\n",
    "):\n",
    "    \n",
    "    options = [\n",
    "        opt[\"letter\"] + '. ' + opt[\"option_text\"]\n",
    "        for opt in question_dict[\"options\"]\n",
    "    ]\n",
    "    \n",
    "    prompt = prompt_template.format(\n",
    "        question=question_dict['question'], \n",
    "        option_1=options[0],\n",
    "        option_2=options[1],\n",
    "        option_3=options[2], \n",
    "        option_4=options[3]\n",
    "    )\n",
    "\n",
    "    messages = [\n",
    "        {\"role\": \"system\", \"content\": system_prompt},\n",
    "        {\"role\": \"user\", \"content\": prompt},\n",
    "        {\"role\": \"assistant\", \"content\": \"{\"}\n",
    "    ]\n",
    "\n",
    "    response = client.chat.completions.create(\n",
    "        model=model,\n",
    "        messages=messages,\n",
    "        **sampling_params\n",
    "    )\n",
    "\n",
    "    return response"
   ]
  },
  {
   "cell_type": "markdown",
   "metadata": {},
   "source": [
    "# GPT-4o"
   ]
  },
  {
   "cell_type": "code",
   "execution_count": 29,
   "metadata": {},
   "outputs": [
    {
     "data": {
      "application/vnd.jupyter.widget-view+json": {
       "model_id": "2da5b88d9ba64bde9f5f668c5b33b1cb",
       "version_major": 2,
       "version_minor": 0
      },
      "text/plain": [
       "  0%|          | 0/44 [00:00<?, ?it/s]"
      ]
     },
     "metadata": {},
     "output_type": "display_data"
    }
   ],
   "source": [
    "results = []\n",
    "responses = []\n",
    "for question_dict in tqdm(questions):\n",
    "    response = get_response(\n",
    "        question_dict,\n",
    "        prompt_template,\n",
    "        system_prompt\n",
    "    )\n",
    "    responses.append(response)\n",
    "    try:\n",
    "        response_dict = json_repair.loads(response.choices[0].message.content)\n",
    "\n",
    "        results.append(\n",
    "            question_dict | {\n",
    "                \"llm_answer\" : response_dict[\"answer\"],\n",
    "                \"llm_reasoning\" : response_dict[\"reasoning\"]\n",
    "            }\n",
    "        )\n",
    "    except Exception as e:\n",
    "        results.append({})"
   ]
  },
  {
   "cell_type": "code",
   "execution_count": 42,
   "metadata": {},
   "outputs": [
    {
     "name": "stdout",
     "output_type": "stream",
     "text": [
      "<class 'pandas.core.frame.DataFrame'>\n",
      "Index: 44 entries, 1.4 to 11.7\n",
      "Data columns (total 7 columns):\n",
      " #   Column         Non-Null Count  Dtype \n",
      "---  ------         --------------  ----- \n",
      " 0   question       44 non-null     object\n",
      " 1   options        44 non-null     object\n",
      " 2   answer         44 non-null     object\n",
      " 3   chapter        44 non-null     int64 \n",
      " 4   llm_answer     44 non-null     object\n",
      " 5   llm_reasoning  44 non-null     object\n",
      " 6   correct        44 non-null     int64 \n",
      "dtypes: int64(2), object(5)\n",
      "memory usage: 2.8+ KB\n"
     ]
    }
   ],
   "source": [
    "res_df = pd.DataFrame(results).set_index(\"id\")\n",
    "res_df['correct'] = (res_df.answer == res_df.llm_answer).astype(int)\n",
    "res_df.info()"
   ]
  },
  {
   "cell_type": "code",
   "execution_count": 43,
   "metadata": {},
   "outputs": [
    {
     "data": {
      "text/html": [
       "<div>\n",
       "<style scoped>\n",
       "    .dataframe tbody tr th:only-of-type {\n",
       "        vertical-align: middle;\n",
       "    }\n",
       "\n",
       "    .dataframe tbody tr th {\n",
       "        vertical-align: top;\n",
       "    }\n",
       "\n",
       "    .dataframe thead th {\n",
       "        text-align: right;\n",
       "    }\n",
       "</style>\n",
       "<table border=\"1\" class=\"dataframe\">\n",
       "  <thead>\n",
       "    <tr style=\"text-align: right;\">\n",
       "      <th></th>\n",
       "      <th>question</th>\n",
       "      <th>options</th>\n",
       "      <th>answer</th>\n",
       "      <th>chapter</th>\n",
       "      <th>llm_answer</th>\n",
       "      <th>llm_reasoning</th>\n",
       "      <th>correct</th>\n",
       "    </tr>\n",
       "    <tr>\n",
       "      <th>id</th>\n",
       "      <th></th>\n",
       "      <th></th>\n",
       "      <th></th>\n",
       "      <th></th>\n",
       "      <th></th>\n",
       "      <th></th>\n",
       "      <th></th>\n",
       "    </tr>\n",
       "  </thead>\n",
       "  <tbody>\n",
       "    <tr>\n",
       "      <th>1.4</th>\n",
       "      <td>Ликвидность акции характеризует</td>\n",
       "      <td>[{'letter': 'А', 'option_text': 'Способность и...</td>\n",
       "      <td>А</td>\n",
       "      <td>1</td>\n",
       "      <td>А</td>\n",
       "      <td>Ликвидность акции определяется тем, насколько ...</td>\n",
       "      <td>1</td>\n",
       "    </tr>\n",
       "    <tr>\n",
       "      <th>1.5</th>\n",
       "      <td>Что из перечисленного не является риском по пр...</td>\n",
       "      <td>[{'letter': 'А', 'option_text': 'Риск изменени...</td>\n",
       "      <td>А</td>\n",
       "      <td>1</td>\n",
       "      <td>А</td>\n",
       "      <td>Риск изменения суверенного рейтинга Российской...</td>\n",
       "      <td>1</td>\n",
       "    </tr>\n",
       "    <tr>\n",
       "      <th>1.6</th>\n",
       "      <td>В фондовый индекс, рассчитываемый биржей, вклю...</td>\n",
       "      <td>[{'letter': 'А', 'option_text': 'Все акции, до...</td>\n",
       "      <td>Б</td>\n",
       "      <td>1</td>\n",
       "      <td>Б</td>\n",
       "      <td>Фондовый индекс формируется на основе акций, к...</td>\n",
       "      <td>1</td>\n",
       "    </tr>\n",
       "    <tr>\n",
       "      <th>1.7</th>\n",
       "      <td>В случае, если Вы купили иностранную акцию за ...</td>\n",
       "      <td>[{'letter': 'А', 'option_text': '500 рублей.'}...</td>\n",
       "      <td>В</td>\n",
       "      <td>1</td>\n",
       "      <td>В</td>\n",
       "      <td>Для расчета налогооблагаемого дохода в России ...</td>\n",
       "      <td>1</td>\n",
       "    </tr>\n",
       "    <tr>\n",
       "      <th>2.4</th>\n",
       "      <td>Вы получили убытки от совершения сделок с акци...</td>\n",
       "      <td>[{'letter': 'А', 'option_text': 'Нет, не возме...</td>\n",
       "      <td>А</td>\n",
       "      <td>2</td>\n",
       "      <td>А</td>\n",
       "      <td>Убытки от сделок с акциями не возмещаются, так...</td>\n",
       "      <td>1</td>\n",
       "    </tr>\n",
       "  </tbody>\n",
       "</table>\n",
       "</div>"
      ],
      "text/plain": [
       "                                              question  \\\n",
       "id                                                       \n",
       "1.4                    Ликвидность акции характеризует   \n",
       "1.5  Что из перечисленного не является риском по пр...   \n",
       "1.6  В фондовый индекс, рассчитываемый биржей, вклю...   \n",
       "1.7  В случае, если Вы купили иностранную акцию за ...   \n",
       "2.4  Вы получили убытки от совершения сделок с акци...   \n",
       "\n",
       "                                               options answer  chapter  \\\n",
       "id                                                                       \n",
       "1.4  [{'letter': 'А', 'option_text': 'Способность и...      А        1   \n",
       "1.5  [{'letter': 'А', 'option_text': 'Риск изменени...      А        1   \n",
       "1.6  [{'letter': 'А', 'option_text': 'Все акции, до...      Б        1   \n",
       "1.7  [{'letter': 'А', 'option_text': '500 рублей.'}...      В        1   \n",
       "2.4  [{'letter': 'А', 'option_text': 'Нет, не возме...      А        2   \n",
       "\n",
       "    llm_answer                                      llm_reasoning  correct  \n",
       "id                                                                          \n",
       "1.4          А  Ликвидность акции определяется тем, насколько ...        1  \n",
       "1.5          А  Риск изменения суверенного рейтинга Российской...        1  \n",
       "1.6          Б  Фондовый индекс формируется на основе акций, к...        1  \n",
       "1.7          В  Для расчета налогооблагаемого дохода в России ...        1  \n",
       "2.4          А  Убытки от сделок с акциями не возмещаются, так...        1  "
      ]
     },
     "execution_count": 43,
     "metadata": {},
     "output_type": "execute_result"
    }
   ],
   "source": [
    "res_df.head()"
   ]
  },
  {
   "cell_type": "code",
   "execution_count": 44,
   "metadata": {},
   "outputs": [
    {
     "data": {
      "text/plain": [
       "(np.int64(41), np.float64(0.9318181818181818))"
      ]
     },
     "execution_count": 44,
     "metadata": {},
     "output_type": "execute_result"
    }
   ],
   "source": [
    "res_df.correct.sum(), res_df.correct.mean()"
   ]
  },
  {
   "cell_type": "code",
   "execution_count": 45,
   "metadata": {},
   "outputs": [
    {
     "data": {
      "text/plain": [
       "chapter\n",
       "1     1.00\n",
       "2     0.75\n",
       "3     1.00\n",
       "4     0.75\n",
       "5     1.00\n",
       "6     1.00\n",
       "7     1.00\n",
       "8     1.00\n",
       "9     1.00\n",
       "10    0.75\n",
       "11    1.00\n",
       "Name: correct, dtype: float64"
      ]
     },
     "execution_count": 45,
     "metadata": {},
     "output_type": "execute_result"
    }
   ],
   "source": [
    "res_df.groupby(\"chapter\")['correct'].mean()"
   ]
  },
  {
   "cell_type": "code",
   "execution_count": 47,
   "metadata": {},
   "outputs": [],
   "source": [
    "res_df.to_csv('/Users/alfa/Code/financial_assistant/data/results/gpt4o_zeroshot.csv')"
   ]
  },
  {
   "cell_type": "markdown",
   "metadata": {},
   "source": [
    "# GPT-4o-mini"
   ]
  },
  {
   "cell_type": "code",
   "execution_count": 48,
   "metadata": {},
   "outputs": [
    {
     "data": {
      "application/vnd.jupyter.widget-view+json": {
       "model_id": "c7ba3ce298fc4b169ac6654522fa1331",
       "version_major": 2,
       "version_minor": 0
      },
      "text/plain": [
       "  0%|          | 0/44 [00:00<?, ?it/s]"
      ]
     },
     "metadata": {},
     "output_type": "display_data"
    }
   ],
   "source": [
    "results = []\n",
    "responses = []\n",
    "for question_dict in tqdm(questions):\n",
    "    response = get_response(\n",
    "        question_dict,\n",
    "        prompt_template,\n",
    "        system_prompt,\n",
    "        model=\"openai/gpt-4o-mini\"\n",
    "    )\n",
    "    responses.append(response)\n",
    "    try:\n",
    "        response_dict = json_repair.loads(response.choices[0].message.content)\n",
    "\n",
    "        results.append(\n",
    "            question_dict | {\n",
    "                \"llm_answer\" : response_dict[\"answer\"],\n",
    "                \"llm_reasoning\" : response_dict[\"reasoning\"]\n",
    "            }\n",
    "        )\n",
    "    except Exception as e:\n",
    "        results.append({})"
   ]
  },
  {
   "cell_type": "code",
   "execution_count": 56,
   "metadata": {},
   "outputs": [],
   "source": [
    "fixed_responses = []\n",
    "results = []\n",
    "for q,r in zip(questions, responses):\n",
    "    r_text =  r.choices[0].message.content\n",
    "    if '{' not in r_text[:5]:\n",
    "        r_text = '{' + r_text\n",
    "    r_json = json_repair.loads(r_text)\n",
    "    fixed_responses.append(r_json)\n",
    "\n",
    "    results.append(\n",
    "        q | {\n",
    "            \"llm_answer\" : r_json[\"answer\"],\n",
    "            \"llm_reasoning\" : r_json[\"reasoning\"]\n",
    "        }\n",
    "    )\n"
   ]
  },
  {
   "cell_type": "code",
   "execution_count": 57,
   "metadata": {},
   "outputs": [
    {
     "name": "stdout",
     "output_type": "stream",
     "text": [
      "<class 'pandas.core.frame.DataFrame'>\n",
      "Index: 44 entries, 1.4 to 11.7\n",
      "Data columns (total 7 columns):\n",
      " #   Column         Non-Null Count  Dtype \n",
      "---  ------         --------------  ----- \n",
      " 0   question       44 non-null     object\n",
      " 1   options        44 non-null     object\n",
      " 2   answer         44 non-null     object\n",
      " 3   chapter        44 non-null     int64 \n",
      " 4   llm_answer     44 non-null     object\n",
      " 5   llm_reasoning  44 non-null     object\n",
      " 6   correct        44 non-null     int64 \n",
      "dtypes: int64(2), object(5)\n",
      "memory usage: 2.8+ KB\n"
     ]
    }
   ],
   "source": [
    "res_df = pd.DataFrame(results).set_index(\"id\")\n",
    "res_df['correct'] = (res_df.answer == res_df.llm_answer).astype(int)\n",
    "res_df.info()"
   ]
  },
  {
   "cell_type": "code",
   "execution_count": 58,
   "metadata": {},
   "outputs": [
    {
     "data": {
      "text/html": [
       "<div>\n",
       "<style scoped>\n",
       "    .dataframe tbody tr th:only-of-type {\n",
       "        vertical-align: middle;\n",
       "    }\n",
       "\n",
       "    .dataframe tbody tr th {\n",
       "        vertical-align: top;\n",
       "    }\n",
       "\n",
       "    .dataframe thead th {\n",
       "        text-align: right;\n",
       "    }\n",
       "</style>\n",
       "<table border=\"1\" class=\"dataframe\">\n",
       "  <thead>\n",
       "    <tr style=\"text-align: right;\">\n",
       "      <th></th>\n",
       "      <th>question</th>\n",
       "      <th>options</th>\n",
       "      <th>answer</th>\n",
       "      <th>chapter</th>\n",
       "      <th>llm_answer</th>\n",
       "      <th>llm_reasoning</th>\n",
       "      <th>correct</th>\n",
       "    </tr>\n",
       "    <tr>\n",
       "      <th>id</th>\n",
       "      <th></th>\n",
       "      <th></th>\n",
       "      <th></th>\n",
       "      <th></th>\n",
       "      <th></th>\n",
       "      <th></th>\n",
       "      <th></th>\n",
       "    </tr>\n",
       "  </thead>\n",
       "  <tbody>\n",
       "    <tr>\n",
       "      <th>1.4</th>\n",
       "      <td>Ликвидность акции характеризует</td>\n",
       "      <td>[{'letter': 'А', 'option_text': 'Способность и...</td>\n",
       "      <td>А</td>\n",
       "      <td>1</td>\n",
       "      <td>А</td>\n",
       "      <td>Ликвидность акции определяет, насколько легко ...</td>\n",
       "      <td>1</td>\n",
       "    </tr>\n",
       "    <tr>\n",
       "      <th>1.5</th>\n",
       "      <td>Что из перечисленного не является риском по пр...</td>\n",
       "      <td>[{'letter': 'А', 'option_text': 'Риск изменени...</td>\n",
       "      <td>А</td>\n",
       "      <td>1</td>\n",
       "      <td>Г</td>\n",
       "      <td>Все перечисленные риски связаны с приобретение...</td>\n",
       "      <td>0</td>\n",
       "    </tr>\n",
       "    <tr>\n",
       "      <th>1.6</th>\n",
       "      <td>В фондовый индекс, рассчитываемый биржей, вклю...</td>\n",
       "      <td>[{'letter': 'А', 'option_text': 'Все акции, до...</td>\n",
       "      <td>Б</td>\n",
       "      <td>1</td>\n",
       "      <td>Б</td>\n",
       "      <td>Фондовый индекс формируется на основе акций, к...</td>\n",
       "      <td>1</td>\n",
       "    </tr>\n",
       "    <tr>\n",
       "      <th>1.7</th>\n",
       "      <td>В случае, если Вы купили иностранную акцию за ...</td>\n",
       "      <td>[{'letter': 'А', 'option_text': '500 рублей.'}...</td>\n",
       "      <td>В</td>\n",
       "      <td>1</td>\n",
       "      <td>В</td>\n",
       "      <td>При продаже иностранной акции в рублях необход...</td>\n",
       "      <td>1</td>\n",
       "    </tr>\n",
       "    <tr>\n",
       "      <th>2.4</th>\n",
       "      <td>Вы получили убытки от совершения сделок с акци...</td>\n",
       "      <td>[{'letter': 'А', 'option_text': 'Нет, не возме...</td>\n",
       "      <td>А</td>\n",
       "      <td>2</td>\n",
       "      <td>А</td>\n",
       "      <td>В общем случае, брокеры не несут ответственнос...</td>\n",
       "      <td>1</td>\n",
       "    </tr>\n",
       "  </tbody>\n",
       "</table>\n",
       "</div>"
      ],
      "text/plain": [
       "                                              question  \\\n",
       "id                                                       \n",
       "1.4                    Ликвидность акции характеризует   \n",
       "1.5  Что из перечисленного не является риском по пр...   \n",
       "1.6  В фондовый индекс, рассчитываемый биржей, вклю...   \n",
       "1.7  В случае, если Вы купили иностранную акцию за ...   \n",
       "2.4  Вы получили убытки от совершения сделок с акци...   \n",
       "\n",
       "                                               options answer  chapter  \\\n",
       "id                                                                       \n",
       "1.4  [{'letter': 'А', 'option_text': 'Способность и...      А        1   \n",
       "1.5  [{'letter': 'А', 'option_text': 'Риск изменени...      А        1   \n",
       "1.6  [{'letter': 'А', 'option_text': 'Все акции, до...      Б        1   \n",
       "1.7  [{'letter': 'А', 'option_text': '500 рублей.'}...      В        1   \n",
       "2.4  [{'letter': 'А', 'option_text': 'Нет, не возме...      А        2   \n",
       "\n",
       "    llm_answer                                      llm_reasoning  correct  \n",
       "id                                                                          \n",
       "1.4          А  Ликвидность акции определяет, насколько легко ...        1  \n",
       "1.5          Г  Все перечисленные риски связаны с приобретение...        0  \n",
       "1.6          Б  Фондовый индекс формируется на основе акций, к...        1  \n",
       "1.7          В  При продаже иностранной акции в рублях необход...        1  \n",
       "2.4          А  В общем случае, брокеры не несут ответственнос...        1  "
      ]
     },
     "execution_count": 58,
     "metadata": {},
     "output_type": "execute_result"
    }
   ],
   "source": [
    "res_df.head()"
   ]
  },
  {
   "cell_type": "code",
   "execution_count": 59,
   "metadata": {},
   "outputs": [
    {
     "data": {
      "text/plain": [
       "(np.int64(34), np.float64(0.7727272727272727))"
      ]
     },
     "execution_count": 59,
     "metadata": {},
     "output_type": "execute_result"
    }
   ],
   "source": [
    "res_df.correct.sum(), res_df.correct.mean()"
   ]
  },
  {
   "cell_type": "code",
   "execution_count": 60,
   "metadata": {},
   "outputs": [
    {
     "data": {
      "text/plain": [
       "chapter\n",
       "1     0.75\n",
       "2     0.50\n",
       "3     1.00\n",
       "4     0.75\n",
       "5     1.00\n",
       "6     0.75\n",
       "7     0.75\n",
       "8     1.00\n",
       "9     0.75\n",
       "10    0.75\n",
       "11    0.50\n",
       "Name: correct, dtype: float64"
      ]
     },
     "execution_count": 60,
     "metadata": {},
     "output_type": "execute_result"
    }
   ],
   "source": [
    "res_df.groupby(\"chapter\")['correct'].mean()"
   ]
  },
  {
   "cell_type": "code",
   "execution_count": 61,
   "metadata": {},
   "outputs": [],
   "source": [
    "res_df.to_csv('/Users/alfa/Code/financial_assistant/data/results/gpt4o-mini_zeroshot.csv')"
   ]
  },
  {
   "cell_type": "code",
   "execution_count": null,
   "metadata": {},
   "outputs": [],
   "source": []
  },
  {
   "cell_type": "code",
   "execution_count": null,
   "metadata": {},
   "outputs": [],
   "source": []
  }
 ],
 "metadata": {
  "kernelspec": {
   "display_name": "finbot",
   "language": "python",
   "name": "python3"
  },
  "language_info": {
   "codemirror_mode": {
    "name": "ipython",
    "version": 3
   },
   "file_extension": ".py",
   "mimetype": "text/x-python",
   "name": "python",
   "nbconvert_exporter": "python",
   "pygments_lexer": "ipython3",
   "version": "3.11.0"
  }
 },
 "nbformat": 4,
 "nbformat_minor": 2
}
