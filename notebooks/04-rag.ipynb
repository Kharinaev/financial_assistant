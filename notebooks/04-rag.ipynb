{
 "cells": [
  {
   "cell_type": "code",
   "execution_count": 118,
   "metadata": {},
   "outputs": [],
   "source": [
    "import os\n",
    "import pandas as pd\n",
    "from tqdm.auto import tqdm\n",
    "import json\n",
    "import json_repair\n",
    "from typing import Dict, List, Optional\n",
    "\n",
    "import tiktoken\n",
    "\n",
    "from langchain.docstore.document import Document\n",
    "from langchain.vectorstores import FAISS\n",
    "from langchain.embeddings.openai import OpenAIEmbeddings\n",
    "\n",
    "from langchain.text_splitter import RecursiveCharacterTextSplitter"
   ]
  },
  {
   "cell_type": "code",
   "execution_count": 136,
   "metadata": {},
   "outputs": [],
   "source": [
    "import warnings\n",
    "warnings.filterwarnings('ignore')"
   ]
  },
  {
   "cell_type": "code",
   "execution_count": null,
   "metadata": {},
   "outputs": [],
   "source": [
    "VSE_GPT_API_KEY = \"\"\n",
    "os.environ[\"OPENAI_API_KEY\"] = VSE_GPT_API_KEY"
   ]
  },
  {
   "cell_type": "markdown",
   "metadata": {},
   "source": [
    "# Data"
   ]
  },
  {
   "cell_type": "code",
   "execution_count": 84,
   "metadata": {},
   "outputs": [],
   "source": [
    "adv_df = pd.read_csv(\"/Users/alfa/Code/financial_assistant/data/interim/alfa_invest_advanced_paragraphs.csv\")\n",
    "beg_df = pd.read_csv(\"/Users/alfa/Code/financial_assistant/data/interim/alfa_invest_begginer_paragraphs.csv\")"
   ]
  },
  {
   "cell_type": "code",
   "execution_count": 85,
   "metadata": {},
   "outputs": [
    {
     "name": "stdout",
     "output_type": "stream",
     "text": [
      "<class 'pandas.core.frame.DataFrame'>\n",
      "RangeIndex: 29 entries, 0 to 28\n",
      "Data columns (total 4 columns):\n",
      " #   Column        Non-Null Count  Dtype \n",
      "---  ------        --------------  ----- \n",
      " 0   paragraph_id  29 non-null     object\n",
      " 1   article_id    29 non-null     object\n",
      " 2   heading       29 non-null     object\n",
      " 3   text          29 non-null     object\n",
      "dtypes: object(4)\n",
      "memory usage: 1.0+ KB\n",
      "<class 'pandas.core.frame.DataFrame'>\n",
      "RangeIndex: 38 entries, 0 to 37\n",
      "Data columns (total 4 columns):\n",
      " #   Column        Non-Null Count  Dtype \n",
      "---  ------        --------------  ----- \n",
      " 0   paragraph_id  38 non-null     object\n",
      " 1   article_id    38 non-null     object\n",
      " 2   heading       38 non-null     object\n",
      " 3   text          38 non-null     object\n",
      "dtypes: object(4)\n",
      "memory usage: 1.3+ KB\n"
     ]
    },
    {
     "data": {
      "text/plain": [
       "(None, None)"
      ]
     },
     "execution_count": 85,
     "metadata": {},
     "output_type": "execute_result"
    }
   ],
   "source": [
    "adv_df.info(), beg_df.info()"
   ]
  },
  {
   "cell_type": "code",
   "execution_count": 5,
   "metadata": {},
   "outputs": [
    {
     "data": {
      "text/html": [
       "<div>\n",
       "<style scoped>\n",
       "    .dataframe tbody tr th:only-of-type {\n",
       "        vertical-align: middle;\n",
       "    }\n",
       "\n",
       "    .dataframe tbody tr th {\n",
       "        vertical-align: top;\n",
       "    }\n",
       "\n",
       "    .dataframe thead th {\n",
       "        text-align: right;\n",
       "    }\n",
       "</style>\n",
       "<table border=\"1\" class=\"dataframe\">\n",
       "  <thead>\n",
       "    <tr style=\"text-align: right;\">\n",
       "      <th></th>\n",
       "      <th>chunk_id</th>\n",
       "      <th>article_id</th>\n",
       "      <th>heading</th>\n",
       "      <th>text</th>\n",
       "    </tr>\n",
       "  </thead>\n",
       "  <tbody>\n",
       "    <tr>\n",
       "      <th>0</th>\n",
       "      <td>AIA_0000_0001</td>\n",
       "      <td>AIA_0000</td>\n",
       "      <td># **Иностранные и российские акции**</td>\n",
       "      <td>**Акция** — это ценная бумага, позволяющая инв...</td>\n",
       "    </tr>\n",
       "    <tr>\n",
       "      <th>1</th>\n",
       "      <td>AIA_0000_0002</td>\n",
       "      <td>AIA_0000</td>\n",
       "      <td># **Листинг ценных бумаг**</td>\n",
       "      <td>Компании, чьи акции доступны неограниченному к...</td>\n",
       "    </tr>\n",
       "    <tr>\n",
       "      <th>2</th>\n",
       "      <td>AIA_0000_0003</td>\n",
       "      <td>AIA_0000</td>\n",
       "      <td># **Акции, включённые в индекс**</td>\n",
       "      <td>**Индексы** — это важные индикаторы ситуации н...</td>\n",
       "    </tr>\n",
       "    <tr>\n",
       "      <th>3</th>\n",
       "      <td>AIA_0000_0004</td>\n",
       "      <td>AIA_0000</td>\n",
       "      <td># **Риски, связанные с покупкой акций иностран...</td>\n",
       "      <td>Иностранные компании и иностранные биржи подчи...</td>\n",
       "    </tr>\n",
       "    <tr>\n",
       "      <th>4</th>\n",
       "      <td>AIA_0001_0005</td>\n",
       "      <td>AIA_0001</td>\n",
       "      <td>Облигации с низким кредитным рейтингом</td>\n",
       "      <td>**Облигация** — это долговая ценная бумага, об...</td>\n",
       "    </tr>\n",
       "  </tbody>\n",
       "</table>\n",
       "</div>"
      ],
      "text/plain": [
       "        chunk_id article_id  \\\n",
       "0  AIA_0000_0001   AIA_0000   \n",
       "1  AIA_0000_0002   AIA_0000   \n",
       "2  AIA_0000_0003   AIA_0000   \n",
       "3  AIA_0000_0004   AIA_0000   \n",
       "4  AIA_0001_0005   AIA_0001   \n",
       "\n",
       "                                             heading  \\\n",
       "0               # **Иностранные и российские акции**   \n",
       "1                         # **Листинг ценных бумаг**   \n",
       "2                   # **Акции, включённые в индекс**   \n",
       "3  # **Риски, связанные с покупкой акций иностран...   \n",
       "4             Облигации с низким кредитным рейтингом   \n",
       "\n",
       "                                                text  \n",
       "0  **Акция** — это ценная бумага, позволяющая инв...  \n",
       "1  Компании, чьи акции доступны неограниченному к...  \n",
       "2  **Индексы** — это важные индикаторы ситуации н...  \n",
       "3  Иностранные компании и иностранные биржи подчи...  \n",
       "4  **Облигация** — это долговая ценная бумага, об...  "
      ]
     },
     "execution_count": 5,
     "metadata": {},
     "output_type": "execute_result"
    }
   ],
   "source": [
    "adv_df.head()"
   ]
  },
  {
   "cell_type": "code",
   "execution_count": 6,
   "metadata": {},
   "outputs": [
    {
     "data": {
      "text/html": [
       "<div>\n",
       "<style scoped>\n",
       "    .dataframe tbody tr th:only-of-type {\n",
       "        vertical-align: middle;\n",
       "    }\n",
       "\n",
       "    .dataframe tbody tr th {\n",
       "        vertical-align: top;\n",
       "    }\n",
       "\n",
       "    .dataframe thead th {\n",
       "        text-align: right;\n",
       "    }\n",
       "</style>\n",
       "<table border=\"1\" class=\"dataframe\">\n",
       "  <thead>\n",
       "    <tr style=\"text-align: right;\">\n",
       "      <th></th>\n",
       "      <th>chunk_id</th>\n",
       "      <th>article_id</th>\n",
       "      <th>heading</th>\n",
       "      <th>text</th>\n",
       "    </tr>\n",
       "  </thead>\n",
       "  <tbody>\n",
       "    <tr>\n",
       "      <th>0</th>\n",
       "      <td>AIB_0000_0001</td>\n",
       "      <td>AIB_0000</td>\n",
       "      <td>Что такое инвестиции?</td>\n",
       "      <td>Деньги нужны, чтобы их тратить. Это понятно. Н...</td>\n",
       "    </tr>\n",
       "    <tr>\n",
       "      <th>1</th>\n",
       "      <td>AIB_0000_0002</td>\n",
       "      <td>AIB_0000</td>\n",
       "      <td>## **Что это за числа и почему вдруг такой рез...</td>\n",
       "      <td>🔐 **Хранили дома** Несмотря на то, что деньги ...</td>\n",
       "    </tr>\n",
       "    <tr>\n",
       "      <th>2</th>\n",
       "      <td>AIB_0001_0003</td>\n",
       "      <td>AIB_0001</td>\n",
       "      <td>Где и во что можно инвестировать?</td>\n",
       "      <td>Площадка, где идёт торговля ценными бумагами —...</td>\n",
       "    </tr>\n",
       "    <tr>\n",
       "      <th>3</th>\n",
       "      <td>AIB_0001_0004</td>\n",
       "      <td>AIB_0001</td>\n",
       "      <td># **Кто торгует на бирже?**</td>\n",
       "      <td>Продавцами на бирже могут быть сами компании, ...</td>\n",
       "    </tr>\n",
       "    <tr>\n",
       "      <th>4</th>\n",
       "      <td>AIB_0001_0005</td>\n",
       "      <td>AIB_0001</td>\n",
       "      <td>### **Что делает брокер:**</td>\n",
       "      <td>1. Открывает инвесторам [счета](https://alfaba...</td>\n",
       "    </tr>\n",
       "  </tbody>\n",
       "</table>\n",
       "</div>"
      ],
      "text/plain": [
       "        chunk_id article_id  \\\n",
       "0  AIB_0000_0001   AIB_0000   \n",
       "1  AIB_0000_0002   AIB_0000   \n",
       "2  AIB_0001_0003   AIB_0001   \n",
       "3  AIB_0001_0004   AIB_0001   \n",
       "4  AIB_0001_0005   AIB_0001   \n",
       "\n",
       "                                             heading  \\\n",
       "0                              Что такое инвестиции?   \n",
       "1  ## **Что это за числа и почему вдруг такой рез...   \n",
       "2                  Где и во что можно инвестировать?   \n",
       "3                        # **Кто торгует на бирже?**   \n",
       "4                         ### **Что делает брокер:**   \n",
       "\n",
       "                                                text  \n",
       "0  Деньги нужны, чтобы их тратить. Это понятно. Н...  \n",
       "1  🔐 **Хранили дома** Несмотря на то, что деньги ...  \n",
       "2  Площадка, где идёт торговля ценными бумагами —...  \n",
       "3  Продавцами на бирже могут быть сами компании, ...  \n",
       "4  1. Открывает инвесторам [счета](https://alfaba...  "
      ]
     },
     "execution_count": 6,
     "metadata": {},
     "output_type": "execute_result"
    }
   ],
   "source": [
    "beg_df.head()"
   ]
  },
  {
   "cell_type": "markdown",
   "metadata": {},
   "source": [
    "## Analyze texts lengths"
   ]
  },
  {
   "cell_type": "code",
   "execution_count": 9,
   "metadata": {},
   "outputs": [],
   "source": [
    "enc = tiktoken.get_encoding(\"cl100k_base\")"
   ]
  },
  {
   "cell_type": "code",
   "execution_count": 39,
   "metadata": {},
   "outputs": [],
   "source": [
    "get_tokens_num = lambda text: len(enc.encode(text))"
   ]
  },
  {
   "cell_type": "code",
   "execution_count": 40,
   "metadata": {},
   "outputs": [],
   "source": [
    "adv_df['num_tokens'] = adv_df.text.apply(get_tokens_num)\n",
    "beg_df['num_tokens'] = beg_df.text.apply(get_tokens_num)"
   ]
  },
  {
   "cell_type": "code",
   "execution_count": 41,
   "metadata": {},
   "outputs": [
    {
     "data": {
      "text/plain": [
       "(count      29.000000\n",
       " mean      973.896552\n",
       " std       637.543127\n",
       " min       187.000000\n",
       " 25%       577.000000\n",
       " 50%       797.000000\n",
       " 75%      1193.000000\n",
       " max      3493.000000\n",
       " Name: num_tokens, dtype: float64,\n",
       " count     38.000000\n",
       " mean     280.973684\n",
       " std      178.128027\n",
       " min       53.000000\n",
       " 25%      139.000000\n",
       " 50%      231.000000\n",
       " 75%      376.000000\n",
       " max      768.000000\n",
       " Name: num_tokens, dtype: float64)"
      ]
     },
     "execution_count": 41,
     "metadata": {},
     "output_type": "execute_result"
    }
   ],
   "source": [
    "adv_df.num_tokens.describe(), beg_df.num_tokens.describe()"
   ]
  },
  {
   "cell_type": "markdown",
   "metadata": {},
   "source": [
    "## Chunkize"
   ]
  },
  {
   "cell_type": "markdown",
   "metadata": {},
   "source": [
    "### Example"
   ]
  },
  {
   "cell_type": "code",
   "execution_count": 108,
   "metadata": {},
   "outputs": [],
   "source": [
    "splitter = RecursiveCharacterTextSplitter(chunk_size=256, chunk_overlap=16, length_function=get_tokens_num)"
   ]
  },
  {
   "cell_type": "code",
   "execution_count": 109,
   "metadata": {},
   "outputs": [
    {
     "data": {
      "text/plain": [
       "['Облигации можно приобрести напрямую у эмитента при размещении выпуска или у других инвесторов на фондовом рынке, или на внебиржевом рынке.',\n",
       " 'При покупке облигаций инвестор заплатит за неё номинальную стоимость — если покупает напрямую у эмитента — или биржевую цену, если приобретает её на бирже. Цены облигаций указываются в процентах от номинала, а он всегда составляет 1000 единиц валюты выпуска. Например, цена рублёвой облигации 98,6% означает, что за бумагу нужно заплатить 98,6% от номинала, то есть 986 рублей. Облигации могут выпускаться не только в рублях, эмитент определяет валюту, в которой ему нужны средства. И это могут быть доллары, евро, юани и другие валюты — валютные',\n",
       " 'юани и другие валюты — валютные облигации традиционно называются еврооблигациями, даже если они в других валютах.',\n",
       " 'Оценивая выгоды от сделки с облигациями, инвесторы обязательно смотрят на размер купонных выплат по ним, накопленный купонный доход (НКД) и срок погашения — всё это влияет на доходность такой инвестиции. Купон идёт в доход инвестора, ведь эмитент перечисляет заранее известные суммы в установленные даты тому, кто на эту дату владеет облигацией. Поэтому при сделках с облигациями покупатель перечисляет продавцу не только стоимость самой бумаги, но и накопленный купонный доход — причитающуюся продавцу часть предстоящей купонной выплаты, которая накопилась с момента последней',\n",
       " 'которая накопилась с момента последней выплаты купона.',\n",
       " 'Если инвестор приобретает облигацию на внебиржевом рынке, то цена такой сделки не является рыночной, а рассчитывается по формуле:\\n*(цена покупки × номинал облигации + НКД) × количество бумаг + комиссия брокера + комиссия депозитария*']"
      ]
     },
     "execution_count": 109,
     "metadata": {},
     "output_type": "execute_result"
    }
   ],
   "source": [
    "splitter.split_text(adv_df.iloc[5]['text'])"
   ]
  },
  {
   "cell_type": "code",
   "execution_count": 110,
   "metadata": {},
   "outputs": [
    {
     "data": {
      "text/plain": [
       "[61, 252, 56, 255, 23, 107]"
      ]
     },
     "execution_count": 110,
     "metadata": {},
     "output_type": "execute_result"
    }
   ],
   "source": [
    "[get_tokens_num(c) for c in splitter.split_text(adv_df.iloc[5]['text'])]"
   ]
  },
  {
   "cell_type": "markdown",
   "metadata": {},
   "source": [
    "### Build all chunks"
   ]
  },
  {
   "cell_type": "code",
   "execution_count": 111,
   "metadata": {},
   "outputs": [],
   "source": [
    "all_chunks = []"
   ]
  },
  {
   "cell_type": "code",
   "execution_count": 112,
   "metadata": {},
   "outputs": [
    {
     "data": {
      "application/vnd.jupyter.widget-view+json": {
       "model_id": "c00a815370a8474798d739a690afd831",
       "version_major": 2,
       "version_minor": 0
      },
      "text/plain": [
       "0it [00:00, ?it/s]"
      ]
     },
     "metadata": {},
     "output_type": "display_data"
    }
   ],
   "source": [
    "for idx, row in tqdm(adv_df.iterrows()):\n",
    "    chunks = splitter.split_text(row.text)\n",
    "    for chunk_id, chunk in enumerate(chunks):\n",
    "        all_chunks.append(\n",
    "            Document(\n",
    "                page_content=chunk,\n",
    "                metadata={\n",
    "                    \"chunk_id\" : chunk_id,\n",
    "                    \"paragraph_id\" : row.paragraph_id,\n",
    "                    \"article_id\" : row.article_id\n",
    "                }\n",
    "            )\n",
    "        )"
   ]
  },
  {
   "cell_type": "code",
   "execution_count": 113,
   "metadata": {},
   "outputs": [
    {
     "data": {
      "text/plain": [
       "155"
      ]
     },
     "execution_count": 113,
     "metadata": {},
     "output_type": "execute_result"
    }
   ],
   "source": [
    "len(all_chunks)"
   ]
  },
  {
   "cell_type": "code",
   "execution_count": 114,
   "metadata": {},
   "outputs": [],
   "source": [
    "for idx, row in beg_df.iterrows():\n",
    "    chunks = splitter.split_text(row.text)\n",
    "    for chunk_id, chunk in enumerate(chunks):\n",
    "        all_chunks.append(\n",
    "            Document(\n",
    "                page_content=chunk,\n",
    "                metadata={\n",
    "                    \"chunk_id\" : chunk_id,\n",
    "                    \"paragraph_id\" : row.paragraph_id,\n",
    "                    \"article_id\" : row.article_id\n",
    "                }\n",
    "            )\n",
    "        )"
   ]
  },
  {
   "cell_type": "code",
   "execution_count": 115,
   "metadata": {},
   "outputs": [
    {
     "data": {
      "text/plain": [
       "222"
      ]
     },
     "execution_count": 115,
     "metadata": {},
     "output_type": "execute_result"
    }
   ],
   "source": [
    "len(all_chunks)"
   ]
  },
  {
   "cell_type": "code",
   "execution_count": 116,
   "metadata": {},
   "outputs": [
    {
     "data": {
      "text/plain": [
       "Document(page_content='Если падает цена базового актива, например акций, дешевеет и фьючерс на них. Его владелец несёт убыток из-за списания вариационной маржи и изменения гарантийного обеспечения. При нехватке средств брокер предупредит, что надо пополнить счёт. Если этого не сделать, даже при закрытии позиции баланс счёта может стать отрицательным. Если цена актива резко упала, а на счёте нет денег для пополнения гарантийного обеспечения или образовалась задолженность — брокер имеет право принудительно закрыть позицию по фьючерсу.', metadata={'chunk_id': 5, 'paragraph_id': 'AIA_0004_0016', 'article_id': 'AIA_0004'})"
      ]
     },
     "execution_count": 116,
     "metadata": {},
     "output_type": "execute_result"
    }
   ],
   "source": [
    "all_chunks[100]"
   ]
  },
  {
   "cell_type": "markdown",
   "metadata": {},
   "source": [
    "# Vector database"
   ]
  },
  {
   "cell_type": "code",
   "execution_count": 96,
   "metadata": {},
   "outputs": [],
   "source": [
    "embedding_model = OpenAIEmbeddings(\n",
    "    model=\"text-embedding-3-small\", \n",
    "    openai_api_base = \"https://api.vsegpt.ru/v1/\"\n",
    ")"
   ]
  },
  {
   "cell_type": "code",
   "execution_count": 92,
   "metadata": {},
   "outputs": [
    {
     "name": "stderr",
     "output_type": "stream",
     "text": [
      "Warning: model not found. Using cl100k_base encoding.\n"
     ]
    }
   ],
   "source": [
    "db = FAISS.from_documents(all_chunks, embedding_model)\n",
    "db.save_local(\"/Users/alfa/Code/financial_assistant/data/processed/docs_db_index\")\n"
   ]
  },
  {
   "cell_type": "markdown",
   "metadata": {},
   "source": [
    "## Vector DB search"
   ]
  },
  {
   "cell_type": "code",
   "execution_count": 97,
   "metadata": {},
   "outputs": [],
   "source": [
    "user_query = \"\"\"\n",
    "Ликвидность акции характеризует\n",
    "А) Способность инвестора продать акцию с минимальными для него потерями в минимальный срок. \n",
    "Б) Разницу цены такой акции на разных торговых площадках. \n",
    "В) Вероятность погашения акции компанией – эмитентом. \n",
    "Г) Ни один из ответов не является правильным.\n",
    "\"\"\""
   ]
  },
  {
   "cell_type": "code",
   "execution_count": 98,
   "metadata": {},
   "outputs": [
    {
     "name": "stderr",
     "output_type": "stream",
     "text": [
      "Warning: model not found. Using cl100k_base encoding.\n"
     ]
    },
    {
     "data": {
      "text/plain": [
       "[Document(page_content='**Ликвидность** — это экономический термин, показывающий как быстро актив (акции) можно продать по цене, близкой к рыночной, т. е. с минимальными потерями для инвестора. Если спрос на покупку и продажу актива есть всегда и с ним заключается много сделок, такой актив называют высоколиквидным.\\n**Волатильность** (англ. volatility) — этот статистический термин характеризует изменчивость показателя в течение определённого времени. Применительно к акциям говорят, что они волатильны, если их цена меняется сильнее и быстрее, чем у большинства других акций.', metadata={'chunk_id': 4, 'paragraph_id': 'AIA_0000_0002', 'article_id': 'AIA_0000'}),\n",
       " Document(page_content='-\\nАкция, не включённая в котировальный список, как правило, менее ликвидна. А значит, риски не найти продавца или покупателя высоки.\\n-\\nПри этом отсутствие в котировальном списке вовсе не означает, что цена такой акции будет ниже, чем цены акций из котировального списка.', metadata={'chunk_id': 6, 'paragraph_id': 'AIA_0000_0002', 'article_id': 'AIA_0000'}),\n",
       " Document(page_content='В список первого уровня не сможет попасть компания, существующая меньше трёх лет или без трёхлетней отчётности по международным стандартам. А для компаний третьего уровня нет требований ни по дате их создания, ни по отчётности, ни по количеству акций в обращении. Поэтому операции с их акциями более рискованны.\\nИнвестору нужно помнить, что акции компаний не из котировального списка биржи отличаются меньшей ликвидностью и большей волатильностью. Объясним, что это значит.', metadata={'chunk_id': 3, 'paragraph_id': 'AIA_0000_0002', 'article_id': 'AIA_0000'})]"
      ]
     },
     "execution_count": 98,
     "metadata": {},
     "output_type": "execute_result"
    }
   ],
   "source": [
    "db.similarity_search(user_query, 3)"
   ]
  },
  {
   "cell_type": "markdown",
   "metadata": {},
   "source": [
    "# RAG"
   ]
  },
  {
   "cell_type": "code",
   "execution_count": null,
   "metadata": {},
   "outputs": [],
   "source": [
    "from openai import OpenAI\n",
    "VSE_GPT_API_KEY = \"\"\n",
    "\n",
    "client = OpenAI(\n",
    "    api_key=VSE_GPT_API_KEY,\n",
    "    base_url=\"https://api.vsegpt.ru/v1\",\n",
    ")"
   ]
  },
  {
   "cell_type": "markdown",
   "metadata": {},
   "source": [
    "## Questions"
   ]
  },
  {
   "cell_type": "code",
   "execution_count": 119,
   "metadata": {},
   "outputs": [],
   "source": [
    "with open('/Users/alfa/Code/financial_assistant/data/interim/test_qual_investor/questions.json', 'r') as f:\n",
    "    questions = json.load(f)"
   ]
  },
  {
   "cell_type": "code",
   "execution_count": 120,
   "metadata": {},
   "outputs": [
    {
     "data": {
      "text/plain": [
       "{'id': '1.4',\n",
       " 'question': 'Ликвидность акции характеризует',\n",
       " 'options': [{'letter': 'А',\n",
       "   'option_text': 'Способность инвестора продать акцию с минимальными для него потерями в минимальный срок.'},\n",
       "  {'letter': 'Б',\n",
       "   'option_text': 'Разницу цены такой акции на разных торговых площадках.'},\n",
       "  {'letter': 'В',\n",
       "   'option_text': 'Вероятность погашения акции компанией – эмитентом.'},\n",
       "  {'letter': 'Г',\n",
       "   'option_text': 'Ни один из ответов не является правильным.'}],\n",
       " 'answer': 'А',\n",
       " 'chapter': 1}"
      ]
     },
     "execution_count": 120,
     "metadata": {},
     "output_type": "execute_result"
    }
   ],
   "source": [
    "questions[0]"
   ]
  },
  {
   "cell_type": "code",
   "execution_count": 121,
   "metadata": {},
   "outputs": [],
   "source": [
    "with open('/Users/alfa/Code/financial_assistant/data/interim/test_qual_investor/chapters.json', 'r') as f:\n",
    "    chapters = json.load(f)"
   ]
  },
  {
   "cell_type": "code",
   "execution_count": 122,
   "metadata": {},
   "outputs": [
    {
     "data": {
      "text/plain": [
       "{'1': 'Покупка иностранных акций',\n",
       " '2': 'Акции, не включенные в котировальные списки',\n",
       " '3': 'Допуск к необеспеченным сделкам (маржинальная торговля)',\n",
       " '4': 'Заключение договоров РЕПО',\n",
       " '5': 'Опционы, фьючерсы, производные финансовые инструменты',\n",
       " '6': 'Структурные облигации',\n",
       " '7': 'Паи закрытых паевых инвестиционных фондов (ЗПИФ)',\n",
       " '8': 'Облигации российских эмитентов, которым не присвоен рейтинг или он ниже уровня',\n",
       " '9': 'Облигации иностранных эмитентов в валюте (еврооблигации) которым не присвоен рейтинг или он ниже нужного уровня',\n",
       " '10': 'Облигации со структурным доходом',\n",
       " '11': 'Вопросы для допуска к иностранным ETF'}"
      ]
     },
     "execution_count": 122,
     "metadata": {},
     "output_type": "execute_result"
    }
   ],
   "source": [
    "chapters"
   ]
  },
  {
   "cell_type": "markdown",
   "metadata": {},
   "source": [
    "## Prompt"
   ]
  },
  {
   "cell_type": "code",
   "execution_count": 132,
   "metadata": {},
   "outputs": [
    {
     "name": "stdout",
     "output_type": "stream",
     "text": [
      "You are qualified financial and investment assistant. \n",
      "Provide helpful answers to any question.  \n",
      "Stricly follow user instructions.  \n"
     ]
    }
   ],
   "source": [
    "with open(\"/Users/alfa/Code/financial_assistant/artifacts/prompts/system_v1.md\", \"r\") as f:\n",
    "    system_prompt = f.read()\n",
    "\n",
    "print(system_prompt)"
   ]
  },
  {
   "cell_type": "code",
   "execution_count": 123,
   "metadata": {},
   "outputs": [],
   "source": [
    "with open(\"/Users/alfa/Code/financial_assistant/artifacts/prompts/rag_v1.md\", \"r\") as f:\n",
    "    prompt_template = f.read()"
   ]
  },
  {
   "cell_type": "code",
   "execution_count": 124,
   "metadata": {},
   "outputs": [
    {
     "name": "stdout",
     "output_type": "stream",
     "text": [
      "### Instructions ###\n",
      "\n",
      "Answer the multiple-choice ###Question### about Russian invest market based on ###Context###.\n",
      "Follow ###Asnwer Format###.\n",
      "\n",
      "\n",
      "### Answer Format ###\n",
      "{{\n",
      "    \"reasoning\" : \"provide your brief (1-2 sentences) reasoning here\",\n",
      "    \"answer\": \"Б\" # one of the first 4 cyrillyc letters: \"А\", \"Б\", \"В\" or \"Г\"\n",
      "}}\n",
      "\n",
      "### Context ###\n",
      "{context}\n",
      "\n",
      "### Question ###\n",
      "{question}\n",
      "\n",
      "{option_1}\n",
      "{option_2}\n",
      "{option_3}\n",
      "{option_4}\n",
      "\n",
      "\n"
     ]
    }
   ],
   "source": [
    "print(prompt_template)"
   ]
  },
  {
   "cell_type": "markdown",
   "metadata": {},
   "source": [
    "## Evaluation"
   ]
  },
  {
   "cell_type": "code",
   "execution_count": 138,
   "metadata": {},
   "outputs": [],
   "source": [
    "def get_rag_response(\n",
    "    question_dict : Dict, \n",
    "    prompt_template: str, \n",
    "    system_prompt: str, \n",
    "    db : FAISS,\n",
    "    model=\"openai/gpt-4o-2024-11-20\",\n",
    "    sampling_params: Dict = {\n",
    "        \"max_tokens\": 512,\n",
    "        \"temperature\": 0.5,\n",
    "        \"top_p\": 0.9\n",
    "    }\n",
    "):\n",
    "    \n",
    "    options = [\n",
    "        opt[\"letter\"] + '. ' + opt[\"option_text\"]\n",
    "        for opt in question_dict[\"options\"]\n",
    "    ]\n",
    "\n",
    "    question_with_options_text = '\\n'.join([question_dict['question']] + options)\n",
    "\n",
    "    top_docs = db.similarity_search(question_with_options_text, 3)\n",
    "    top_docs_texts = [f\"{i}. {doc.page_content}\" for i, doc in enumerate(top_docs)]\n",
    "    context = '\\n'.join(top_docs_texts)\n",
    "\n",
    "    prompt = prompt_template.format(\n",
    "        context=context,\n",
    "        question=question_dict['question'], \n",
    "        option_1=options[0],\n",
    "        option_2=options[1],\n",
    "        option_3=options[2], \n",
    "        option_4=options[3],\n",
    "    )\n",
    "\n",
    "    # return prompt\n",
    "\n",
    "    messages = [\n",
    "        {\"role\": \"system\", \"content\": system_prompt},\n",
    "        {\"role\": \"user\", \"content\": prompt},\n",
    "        {\"role\": \"assistant\", \"content\": \"{\"}\n",
    "    ]\n",
    "\n",
    "    response = client.chat.completions.create(\n",
    "        model=model,\n",
    "        messages=messages,\n",
    "        **sampling_params\n",
    "    )\n",
    "\n",
    "    return response"
   ]
  },
  {
   "cell_type": "markdown",
   "metadata": {},
   "source": [
    "# GPT-4o-mini"
   ]
  },
  {
   "cell_type": "code",
   "execution_count": 139,
   "metadata": {},
   "outputs": [
    {
     "data": {
      "application/vnd.jupyter.widget-view+json": {
       "model_id": "88ae1fe5be194498af393ef235504eff",
       "version_major": 2,
       "version_minor": 0
      },
      "text/plain": [
       "  0%|          | 0/44 [00:00<?, ?it/s]"
      ]
     },
     "metadata": {},
     "output_type": "display_data"
    },
    {
     "name": "stderr",
     "output_type": "stream",
     "text": [
      "Warning: model not found. Using cl100k_base encoding.\n",
      "Warning: model not found. Using cl100k_base encoding.\n",
      "Warning: model not found. Using cl100k_base encoding.\n",
      "Warning: model not found. Using cl100k_base encoding.\n",
      "Warning: model not found. Using cl100k_base encoding.\n",
      "Warning: model not found. Using cl100k_base encoding.\n",
      "Warning: model not found. Using cl100k_base encoding.\n",
      "Warning: model not found. Using cl100k_base encoding.\n",
      "Warning: model not found. Using cl100k_base encoding.\n",
      "Warning: model not found. Using cl100k_base encoding.\n",
      "Warning: model not found. Using cl100k_base encoding.\n",
      "Warning: model not found. Using cl100k_base encoding.\n",
      "Warning: model not found. Using cl100k_base encoding.\n",
      "Warning: model not found. Using cl100k_base encoding.\n",
      "Warning: model not found. Using cl100k_base encoding.\n",
      "Warning: model not found. Using cl100k_base encoding.\n",
      "Warning: model not found. Using cl100k_base encoding.\n",
      "Warning: model not found. Using cl100k_base encoding.\n",
      "Warning: model not found. Using cl100k_base encoding.\n",
      "Warning: model not found. Using cl100k_base encoding.\n",
      "Warning: model not found. Using cl100k_base encoding.\n",
      "Warning: model not found. Using cl100k_base encoding.\n",
      "Warning: model not found. Using cl100k_base encoding.\n",
      "Warning: model not found. Using cl100k_base encoding.\n",
      "Warning: model not found. Using cl100k_base encoding.\n",
      "Warning: model not found. Using cl100k_base encoding.\n",
      "Warning: model not found. Using cl100k_base encoding.\n",
      "Warning: model not found. Using cl100k_base encoding.\n",
      "Warning: model not found. Using cl100k_base encoding.\n",
      "Warning: model not found. Using cl100k_base encoding.\n",
      "Warning: model not found. Using cl100k_base encoding.\n",
      "Warning: model not found. Using cl100k_base encoding.\n",
      "Warning: model not found. Using cl100k_base encoding.\n",
      "Warning: model not found. Using cl100k_base encoding.\n",
      "Warning: model not found. Using cl100k_base encoding.\n",
      "Warning: model not found. Using cl100k_base encoding.\n",
      "Warning: model not found. Using cl100k_base encoding.\n",
      "Warning: model not found. Using cl100k_base encoding.\n",
      "Warning: model not found. Using cl100k_base encoding.\n",
      "Warning: model not found. Using cl100k_base encoding.\n",
      "Warning: model not found. Using cl100k_base encoding.\n",
      "Warning: model not found. Using cl100k_base encoding.\n",
      "Warning: model not found. Using cl100k_base encoding.\n",
      "Warning: model not found. Using cl100k_base encoding.\n"
     ]
    }
   ],
   "source": [
    "results = []\n",
    "responses = []\n",
    "for question_dict in tqdm(questions):\n",
    "    response = get_rag_response(\n",
    "        question_dict,\n",
    "        prompt_template,\n",
    "        system_prompt,\n",
    "        db,\n",
    "        model=\"openai/gpt-4o-mini\"\n",
    "    )\n",
    "    responses.append(response)\n",
    "    try:\n",
    "        response_text =  response.choices[0].message.content\n",
    "        if '{' not in response_text[:5]:\n",
    "            response_text = '{' + response_text\n",
    "        response_dict = json_repair.loads(response_text)\n",
    "\n",
    "        results.append(\n",
    "            question_dict | {\n",
    "                \"llm_answer\" : response_dict[\"answer\"],\n",
    "                \"llm_reasoning\" : response_dict[\"reasoning\"]\n",
    "            }\n",
    "        )\n",
    "    except Exception as e:\n",
    "        results.append({})"
   ]
  },
  {
   "cell_type": "code",
   "execution_count": 140,
   "metadata": {},
   "outputs": [
    {
     "name": "stdout",
     "output_type": "stream",
     "text": [
      "<class 'pandas.core.frame.DataFrame'>\n",
      "Index: 44 entries, 1.4 to 11.7\n",
      "Data columns (total 7 columns):\n",
      " #   Column         Non-Null Count  Dtype \n",
      "---  ------         --------------  ----- \n",
      " 0   question       44 non-null     object\n",
      " 1   options        44 non-null     object\n",
      " 2   answer         44 non-null     object\n",
      " 3   chapter        44 non-null     int64 \n",
      " 4   llm_answer     44 non-null     object\n",
      " 5   llm_reasoning  44 non-null     object\n",
      " 6   correct        44 non-null     int64 \n",
      "dtypes: int64(2), object(5)\n",
      "memory usage: 2.8+ KB\n"
     ]
    }
   ],
   "source": [
    "res_df = pd.DataFrame(results).set_index(\"id\")\n",
    "res_df['correct'] = (res_df.answer == res_df.llm_answer).astype(int)\n",
    "res_df.info()"
   ]
  },
  {
   "cell_type": "code",
   "execution_count": 141,
   "metadata": {},
   "outputs": [
    {
     "data": {
      "text/html": [
       "<div>\n",
       "<style scoped>\n",
       "    .dataframe tbody tr th:only-of-type {\n",
       "        vertical-align: middle;\n",
       "    }\n",
       "\n",
       "    .dataframe tbody tr th {\n",
       "        vertical-align: top;\n",
       "    }\n",
       "\n",
       "    .dataframe thead th {\n",
       "        text-align: right;\n",
       "    }\n",
       "</style>\n",
       "<table border=\"1\" class=\"dataframe\">\n",
       "  <thead>\n",
       "    <tr style=\"text-align: right;\">\n",
       "      <th></th>\n",
       "      <th>question</th>\n",
       "      <th>options</th>\n",
       "      <th>answer</th>\n",
       "      <th>chapter</th>\n",
       "      <th>llm_answer</th>\n",
       "      <th>llm_reasoning</th>\n",
       "      <th>correct</th>\n",
       "    </tr>\n",
       "    <tr>\n",
       "      <th>id</th>\n",
       "      <th></th>\n",
       "      <th></th>\n",
       "      <th></th>\n",
       "      <th></th>\n",
       "      <th></th>\n",
       "      <th></th>\n",
       "      <th></th>\n",
       "    </tr>\n",
       "  </thead>\n",
       "  <tbody>\n",
       "    <tr>\n",
       "      <th>1.4</th>\n",
       "      <td>Ликвидность акции характеризует</td>\n",
       "      <td>[{'letter': 'А', 'option_text': 'Способность и...</td>\n",
       "      <td>А</td>\n",
       "      <td>1</td>\n",
       "      <td>А</td>\n",
       "      <td>Ликвидность акции определяет, насколько быстро...</td>\n",
       "      <td>1</td>\n",
       "    </tr>\n",
       "    <tr>\n",
       "      <th>1.5</th>\n",
       "      <td>Что из перечисленного не является риском по пр...</td>\n",
       "      <td>[{'letter': 'А', 'option_text': 'Риск изменени...</td>\n",
       "      <td>А</td>\n",
       "      <td>1</td>\n",
       "      <td>А</td>\n",
       "      <td>Изменение суверенного рейтинга России не влияе...</td>\n",
       "      <td>1</td>\n",
       "    </tr>\n",
       "    <tr>\n",
       "      <th>1.6</th>\n",
       "      <td>В фондовый индекс, рассчитываемый биржей, вклю...</td>\n",
       "      <td>[{'letter': 'А', 'option_text': 'Все акции, до...</td>\n",
       "      <td>Б</td>\n",
       "      <td>1</td>\n",
       "      <td>Б</td>\n",
       "      <td>Индекс включает акции только тех эмитентов, ко...</td>\n",
       "      <td>1</td>\n",
       "    </tr>\n",
       "    <tr>\n",
       "      <th>1.7</th>\n",
       "      <td>В случае, если Вы купили иностранную акцию за ...</td>\n",
       "      <td>[{'letter': 'А', 'option_text': '500 рублей.'}...</td>\n",
       "      <td>В</td>\n",
       "      <td>1</td>\n",
       "      <td>В</td>\n",
       "      <td>При продаже иностранной акции доход в рублях р...</td>\n",
       "      <td>1</td>\n",
       "    </tr>\n",
       "    <tr>\n",
       "      <th>2.4</th>\n",
       "      <td>Вы получили убытки от совершения сделок с акци...</td>\n",
       "      <td>[{'letter': 'А', 'option_text': 'Нет, не возме...</td>\n",
       "      <td>А</td>\n",
       "      <td>2</td>\n",
       "      <td>А</td>\n",
       "      <td>В контексте торговли акциями с использованием ...</td>\n",
       "      <td>1</td>\n",
       "    </tr>\n",
       "  </tbody>\n",
       "</table>\n",
       "</div>"
      ],
      "text/plain": [
       "                                              question  \\\n",
       "id                                                       \n",
       "1.4                    Ликвидность акции характеризует   \n",
       "1.5  Что из перечисленного не является риском по пр...   \n",
       "1.6  В фондовый индекс, рассчитываемый биржей, вклю...   \n",
       "1.7  В случае, если Вы купили иностранную акцию за ...   \n",
       "2.4  Вы получили убытки от совершения сделок с акци...   \n",
       "\n",
       "                                               options answer  chapter  \\\n",
       "id                                                                       \n",
       "1.4  [{'letter': 'А', 'option_text': 'Способность и...      А        1   \n",
       "1.5  [{'letter': 'А', 'option_text': 'Риск изменени...      А        1   \n",
       "1.6  [{'letter': 'А', 'option_text': 'Все акции, до...      Б        1   \n",
       "1.7  [{'letter': 'А', 'option_text': '500 рублей.'}...      В        1   \n",
       "2.4  [{'letter': 'А', 'option_text': 'Нет, не возме...      А        2   \n",
       "\n",
       "    llm_answer                                      llm_reasoning  correct  \n",
       "id                                                                          \n",
       "1.4          А  Ликвидность акции определяет, насколько быстро...        1  \n",
       "1.5          А  Изменение суверенного рейтинга России не влияе...        1  \n",
       "1.6          Б  Индекс включает акции только тех эмитентов, ко...        1  \n",
       "1.7          В  При продаже иностранной акции доход в рублях р...        1  \n",
       "2.4          А  В контексте торговли акциями с использованием ...        1  "
      ]
     },
     "execution_count": 141,
     "metadata": {},
     "output_type": "execute_result"
    }
   ],
   "source": [
    "res_df.head()"
   ]
  },
  {
   "cell_type": "code",
   "execution_count": 142,
   "metadata": {},
   "outputs": [
    {
     "data": {
      "text/plain": [
       "(42, 0.9545454545454546)"
      ]
     },
     "execution_count": 142,
     "metadata": {},
     "output_type": "execute_result"
    }
   ],
   "source": [
    "res_df.correct.sum(), res_df.correct.mean()"
   ]
  },
  {
   "cell_type": "code",
   "execution_count": 143,
   "metadata": {},
   "outputs": [
    {
     "data": {
      "text/plain": [
       "chapter\n",
       "1     1.00\n",
       "2     1.00\n",
       "3     1.00\n",
       "4     1.00\n",
       "5     1.00\n",
       "6     1.00\n",
       "7     1.00\n",
       "8     1.00\n",
       "9     1.00\n",
       "10    0.75\n",
       "11    0.75\n",
       "Name: correct, dtype: float64"
      ]
     },
     "execution_count": 143,
     "metadata": {},
     "output_type": "execute_result"
    }
   ],
   "source": [
    "res_df.groupby(\"chapter\")['correct'].mean()"
   ]
  },
  {
   "cell_type": "code",
   "execution_count": 144,
   "metadata": {},
   "outputs": [],
   "source": [
    "res_df.to_csv('/Users/alfa/Code/financial_assistant/data/results/gpt4o-mini_rag.csv')"
   ]
  },
  {
   "cell_type": "markdown",
   "metadata": {},
   "source": [
    "# GPT-4o"
   ]
  },
  {
   "cell_type": "code",
   "execution_count": 145,
   "metadata": {},
   "outputs": [
    {
     "data": {
      "application/vnd.jupyter.widget-view+json": {
       "model_id": "4631c139a4b545c5bce1fa40e3a89e7c",
       "version_major": 2,
       "version_minor": 0
      },
      "text/plain": [
       "  0%|          | 0/44 [00:00<?, ?it/s]"
      ]
     },
     "metadata": {},
     "output_type": "display_data"
    },
    {
     "name": "stderr",
     "output_type": "stream",
     "text": [
      "Warning: model not found. Using cl100k_base encoding.\n",
      "Warning: model not found. Using cl100k_base encoding.\n",
      "Warning: model not found. Using cl100k_base encoding.\n",
      "Warning: model not found. Using cl100k_base encoding.\n",
      "Warning: model not found. Using cl100k_base encoding.\n",
      "Warning: model not found. Using cl100k_base encoding.\n",
      "Warning: model not found. Using cl100k_base encoding.\n",
      "Warning: model not found. Using cl100k_base encoding.\n",
      "Warning: model not found. Using cl100k_base encoding.\n",
      "Warning: model not found. Using cl100k_base encoding.\n",
      "Warning: model not found. Using cl100k_base encoding.\n",
      "Warning: model not found. Using cl100k_base encoding.\n",
      "Warning: model not found. Using cl100k_base encoding.\n",
      "Warning: model not found. Using cl100k_base encoding.\n",
      "Warning: model not found. Using cl100k_base encoding.\n",
      "Warning: model not found. Using cl100k_base encoding.\n",
      "Warning: model not found. Using cl100k_base encoding.\n",
      "Warning: model not found. Using cl100k_base encoding.\n",
      "Warning: model not found. Using cl100k_base encoding.\n",
      "Warning: model not found. Using cl100k_base encoding.\n",
      "Warning: model not found. Using cl100k_base encoding.\n",
      "Warning: model not found. Using cl100k_base encoding.\n",
      "Warning: model not found. Using cl100k_base encoding.\n",
      "Warning: model not found. Using cl100k_base encoding.\n",
      "Warning: model not found. Using cl100k_base encoding.\n",
      "Warning: model not found. Using cl100k_base encoding.\n",
      "Warning: model not found. Using cl100k_base encoding.\n",
      "Warning: model not found. Using cl100k_base encoding.\n",
      "Warning: model not found. Using cl100k_base encoding.\n",
      "Warning: model not found. Using cl100k_base encoding.\n",
      "Warning: model not found. Using cl100k_base encoding.\n",
      "Warning: model not found. Using cl100k_base encoding.\n",
      "Warning: model not found. Using cl100k_base encoding.\n",
      "Warning: model not found. Using cl100k_base encoding.\n",
      "Warning: model not found. Using cl100k_base encoding.\n",
      "Warning: model not found. Using cl100k_base encoding.\n",
      "Warning: model not found. Using cl100k_base encoding.\n",
      "Warning: model not found. Using cl100k_base encoding.\n",
      "Warning: model not found. Using cl100k_base encoding.\n",
      "Warning: model not found. Using cl100k_base encoding.\n",
      "Warning: model not found. Using cl100k_base encoding.\n",
      "Warning: model not found. Using cl100k_base encoding.\n",
      "Warning: model not found. Using cl100k_base encoding.\n",
      "Warning: model not found. Using cl100k_base encoding.\n"
     ]
    }
   ],
   "source": [
    "results = []\n",
    "responses = []\n",
    "for question_dict in tqdm(questions):\n",
    "    response = get_rag_response(\n",
    "        question_dict,\n",
    "        prompt_template,\n",
    "        system_prompt,\n",
    "        db,\n",
    "    )\n",
    "    responses.append(response)\n",
    "    try:\n",
    "        response_text =  response.choices[0].message.content\n",
    "        if '{' not in response_text[:5]:\n",
    "            response_text = '{' + response_text\n",
    "        response_dict = json_repair.loads(response_text)\n",
    "\n",
    "        results.append(\n",
    "            question_dict | {\n",
    "                \"llm_answer\" : response_dict[\"answer\"],\n",
    "                \"llm_reasoning\" : response_dict[\"reasoning\"]\n",
    "            }\n",
    "        )\n",
    "    except Exception as e:\n",
    "        results.append({})"
   ]
  },
  {
   "cell_type": "code",
   "execution_count": 146,
   "metadata": {},
   "outputs": [
    {
     "name": "stdout",
     "output_type": "stream",
     "text": [
      "<class 'pandas.core.frame.DataFrame'>\n",
      "Index: 44 entries, 1.4 to 11.7\n",
      "Data columns (total 7 columns):\n",
      " #   Column         Non-Null Count  Dtype \n",
      "---  ------         --------------  ----- \n",
      " 0   question       44 non-null     object\n",
      " 1   options        44 non-null     object\n",
      " 2   answer         44 non-null     object\n",
      " 3   chapter        44 non-null     int64 \n",
      " 4   llm_answer     44 non-null     object\n",
      " 5   llm_reasoning  44 non-null     object\n",
      " 6   correct        44 non-null     int64 \n",
      "dtypes: int64(2), object(5)\n",
      "memory usage: 2.8+ KB\n"
     ]
    }
   ],
   "source": [
    "res_df = pd.DataFrame(results).set_index(\"id\")\n",
    "res_df['correct'] = (res_df.answer == res_df.llm_answer).astype(int)\n",
    "res_df.info()"
   ]
  },
  {
   "cell_type": "code",
   "execution_count": 147,
   "metadata": {},
   "outputs": [
    {
     "data": {
      "text/html": [
       "<div>\n",
       "<style scoped>\n",
       "    .dataframe tbody tr th:only-of-type {\n",
       "        vertical-align: middle;\n",
       "    }\n",
       "\n",
       "    .dataframe tbody tr th {\n",
       "        vertical-align: top;\n",
       "    }\n",
       "\n",
       "    .dataframe thead th {\n",
       "        text-align: right;\n",
       "    }\n",
       "</style>\n",
       "<table border=\"1\" class=\"dataframe\">\n",
       "  <thead>\n",
       "    <tr style=\"text-align: right;\">\n",
       "      <th></th>\n",
       "      <th>question</th>\n",
       "      <th>options</th>\n",
       "      <th>answer</th>\n",
       "      <th>chapter</th>\n",
       "      <th>llm_answer</th>\n",
       "      <th>llm_reasoning</th>\n",
       "      <th>correct</th>\n",
       "    </tr>\n",
       "    <tr>\n",
       "      <th>id</th>\n",
       "      <th></th>\n",
       "      <th></th>\n",
       "      <th></th>\n",
       "      <th></th>\n",
       "      <th></th>\n",
       "      <th></th>\n",
       "      <th></th>\n",
       "    </tr>\n",
       "  </thead>\n",
       "  <tbody>\n",
       "    <tr>\n",
       "      <th>1.4</th>\n",
       "      <td>Ликвидность акции характеризует</td>\n",
       "      <td>[{'letter': 'А', 'option_text': 'Способность и...</td>\n",
       "      <td>А</td>\n",
       "      <td>1</td>\n",
       "      <td>А</td>\n",
       "      <td>Ликвидность акции определяется её способностью...</td>\n",
       "      <td>1</td>\n",
       "    </tr>\n",
       "    <tr>\n",
       "      <th>1.5</th>\n",
       "      <td>Что из перечисленного не является риском по пр...</td>\n",
       "      <td>[{'letter': 'А', 'option_text': 'Риск изменени...</td>\n",
       "      <td>А</td>\n",
       "      <td>1</td>\n",
       "      <td>А</td>\n",
       "      <td>Риск изменения суверенного рейтинга Российской...</td>\n",
       "      <td>1</td>\n",
       "    </tr>\n",
       "    <tr>\n",
       "      <th>1.6</th>\n",
       "      <td>В фондовый индекс, рассчитываемый биржей, вклю...</td>\n",
       "      <td>[{'letter': 'А', 'option_text': 'Все акции, до...</td>\n",
       "      <td>Б</td>\n",
       "      <td>1</td>\n",
       "      <td>Б</td>\n",
       "      <td>Согласно контексту, акции включаются в фондовы...</td>\n",
       "      <td>1</td>\n",
       "    </tr>\n",
       "    <tr>\n",
       "      <th>1.7</th>\n",
       "      <td>В случае, если Вы купили иностранную акцию за ...</td>\n",
       "      <td>[{'letter': 'А', 'option_text': '500 рублей.'}...</td>\n",
       "      <td>В</td>\n",
       "      <td>1</td>\n",
       "      <td>В</td>\n",
       "      <td>Прибыль от продажи акции в долларах составляет...</td>\n",
       "      <td>1</td>\n",
       "    </tr>\n",
       "    <tr>\n",
       "      <th>2.4</th>\n",
       "      <td>Вы получили убытки от совершения сделок с акци...</td>\n",
       "      <td>[{'letter': 'А', 'option_text': 'Нет, не возме...</td>\n",
       "      <td>А</td>\n",
       "      <td>2</td>\n",
       "      <td>А</td>\n",
       "      <td>В контексте указано, что убытки от сделок с ак...</td>\n",
       "      <td>1</td>\n",
       "    </tr>\n",
       "  </tbody>\n",
       "</table>\n",
       "</div>"
      ],
      "text/plain": [
       "                                              question  \\\n",
       "id                                                       \n",
       "1.4                    Ликвидность акции характеризует   \n",
       "1.5  Что из перечисленного не является риском по пр...   \n",
       "1.6  В фондовый индекс, рассчитываемый биржей, вклю...   \n",
       "1.7  В случае, если Вы купили иностранную акцию за ...   \n",
       "2.4  Вы получили убытки от совершения сделок с акци...   \n",
       "\n",
       "                                               options answer  chapter  \\\n",
       "id                                                                       \n",
       "1.4  [{'letter': 'А', 'option_text': 'Способность и...      А        1   \n",
       "1.5  [{'letter': 'А', 'option_text': 'Риск изменени...      А        1   \n",
       "1.6  [{'letter': 'А', 'option_text': 'Все акции, до...      Б        1   \n",
       "1.7  [{'letter': 'А', 'option_text': '500 рублей.'}...      В        1   \n",
       "2.4  [{'letter': 'А', 'option_text': 'Нет, не возме...      А        2   \n",
       "\n",
       "    llm_answer                                      llm_reasoning  correct  \n",
       "id                                                                          \n",
       "1.4          А  Ликвидность акции определяется её способностью...        1  \n",
       "1.5          А  Риск изменения суверенного рейтинга Российской...        1  \n",
       "1.6          Б  Согласно контексту, акции включаются в фондовы...        1  \n",
       "1.7          В  Прибыль от продажи акции в долларах составляет...        1  \n",
       "2.4          А  В контексте указано, что убытки от сделок с ак...        1  "
      ]
     },
     "execution_count": 147,
     "metadata": {},
     "output_type": "execute_result"
    }
   ],
   "source": [
    "res_df.head()"
   ]
  },
  {
   "cell_type": "code",
   "execution_count": 148,
   "metadata": {},
   "outputs": [
    {
     "data": {
      "text/plain": [
       "(42, 0.9545454545454546)"
      ]
     },
     "execution_count": 148,
     "metadata": {},
     "output_type": "execute_result"
    }
   ],
   "source": [
    "res_df.correct.sum(), res_df.correct.mean()"
   ]
  },
  {
   "cell_type": "code",
   "execution_count": 149,
   "metadata": {},
   "outputs": [
    {
     "data": {
      "text/plain": [
       "chapter\n",
       "1     1.00\n",
       "2     1.00\n",
       "3     1.00\n",
       "4     1.00\n",
       "5     1.00\n",
       "6     1.00\n",
       "7     1.00\n",
       "8     1.00\n",
       "9     1.00\n",
       "10    0.75\n",
       "11    0.75\n",
       "Name: correct, dtype: float64"
      ]
     },
     "execution_count": 149,
     "metadata": {},
     "output_type": "execute_result"
    }
   ],
   "source": [
    "res_df.groupby(\"chapter\")['correct'].mean()"
   ]
  },
  {
   "cell_type": "code",
   "execution_count": 150,
   "metadata": {},
   "outputs": [],
   "source": [
    "res_df.to_csv('/Users/alfa/Code/financial_assistant/data/results/gpt4o_rag.csv')"
   ]
  },
  {
   "cell_type": "code",
   "execution_count": null,
   "metadata": {},
   "outputs": [],
   "source": []
  },
  {
   "cell_type": "code",
   "execution_count": null,
   "metadata": {},
   "outputs": [],
   "source": []
  }
 ],
 "metadata": {
  "kernelspec": {
   "display_name": "finbot",
   "language": "python",
   "name": "python3"
  },
  "language_info": {
   "codemirror_mode": {
    "name": "ipython",
    "version": 3
   },
   "file_extension": ".py",
   "mimetype": "text/x-python",
   "name": "python",
   "nbconvert_exporter": "python",
   "pygments_lexer": "ipython3",
   "version": "3.11.0"
  }
 },
 "nbformat": 4,
 "nbformat_minor": 2
}
